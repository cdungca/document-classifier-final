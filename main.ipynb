{
 "cells": [
  {
   "cell_type": "code",
   "execution_count": 1,
   "metadata": {},
   "outputs": [
    {
     "name": "stderr",
     "output_type": "stream",
     "text": [
      "[nltk_data] Downloading package wordnet to\n",
      "[nltk_data]     C:\\Users\\CDUNGCA\\AppData\\Roaming\\nltk_data...\n",
      "[nltk_data]   Package wordnet is already up-to-date!\n",
      "[nltk_data] Downloading package punkt to\n",
      "[nltk_data]     C:\\Users\\CDUNGCA\\AppData\\Roaming\\nltk_data...\n",
      "[nltk_data]   Package punkt is already up-to-date!\n",
      "[nltk_data] Downloading package punkt_tab to\n",
      "[nltk_data]     C:\\Users\\CDUNGCA\\AppData\\Roaming\\nltk_data...\n",
      "[nltk_data]   Package punkt_tab is already up-to-date!\n",
      "[nltk_data] Downloading package stopwords to\n",
      "[nltk_data]     C:\\Users\\CDUNGCA\\AppData\\Roaming\\nltk_data...\n",
      "[nltk_data]   Package stopwords is already up-to-date!\n",
      "[nltk_data] Downloading package averaged_perceptron_tagger_eng to\n",
      "[nltk_data]     C:\\Users\\CDUNGCA\\AppData\\Roaming\\nltk_data...\n",
      "[nltk_data]   Package averaged_perceptron_tagger_eng is already up-to-\n",
      "[nltk_data]       date!\n",
      "[nltk_data] Downloading package tagsets_json to\n",
      "[nltk_data]     C:\\Users\\CDUNGCA\\AppData\\Roaming\\nltk_data...\n",
      "[nltk_data]   Package tagsets_json is already up-to-date!\n"
     ]
    }
   ],
   "source": [
    "import warnings\n",
    "import pandas as pd\n",
    "import numpy as np\n",
    "import matplotlib.pyplot as plt\n",
    "import seaborn as sns\n",
    "from sklearn.dummy import DummyClassifier\n",
    "from sklearn.preprocessing import LabelEncoder\n",
    "from sklearn.feature_extraction.text import TfidfVectorizer\n",
    "from sklearn import model_selection, naive_bayes, svm\n",
    "from sklearn.metrics import accuracy_score, classification_report\n",
    "from sklearn.metrics import ConfusionMatrixDisplay, RocCurveDisplay\n",
    "from sklearn.metrics import confusion_matrix, roc_curve, auc\n",
    "from sklearn.linear_model import LogisticRegression\n",
    "from sklearn.naive_bayes import MultinomialNB\n",
    "from sklearn.svm import SVC\n",
    "from sklearn.feature_extraction.text import CountVectorizer, TfidfVectorizer\n",
    "from imblearn.pipeline import Pipeline\n",
    "from imblearn.combine import SMOTETomek\n",
    "from imblearn.over_sampling import SMOTE\n",
    "from imblearn.under_sampling import TomekLinks\n",
    "from sklearn.model_selection import train_test_split, GridSearchCV\n",
    "from collections import Counter, defaultdict\n",
    "import nltk\n",
    "from nltk import word_tokenize\n",
    "from nltk import pos_tag\n",
    "from nltk.corpus import stopwords\n",
    "from nltk.stem import PorterStemmer, WordNetLemmatizer\n",
    "from nltk.corpus import wordnet as wn\n",
    "from wordcloud import WordCloud\n",
    "nltk.download('wordnet')\n",
    "nltk.download('punkt')\n",
    "nltk.download('punkt_tab')\n",
    "nltk.download('stopwords')\n",
    "nltk.download('averaged_perceptron_tagger_eng')\n",
    "nltk.download('tagsets_json')\n",
    "\n",
    "# remove warnings\n",
    "warnings.filterwarnings('ignore')\n"
   ]
  },
  {
   "cell_type": "code",
   "execution_count": 2,
   "metadata": {},
   "outputs": [],
   "source": [
    "np.random.seed(500)"
   ]
  },
  {
   "cell_type": "code",
   "execution_count": 3,
   "metadata": {},
   "outputs": [],
   "source": [
    "# Load the data\n",
    "Corpus = pd.read_csv('data/data.csv')"
   ]
  },
  {
   "cell_type": "code",
   "execution_count": 4,
   "metadata": {},
   "outputs": [
    {
     "name": "stdout",
     "output_type": "stream",
     "text": [
      "<class 'pandas.core.frame.DataFrame'>\n",
      "RangeIndex: 194 entries, 0 to 193\n",
      "Data columns (total 2 columns):\n",
      " #   Column    Non-Null Count  Dtype \n",
      "---  ------    --------------  ----- \n",
      " 0   category  194 non-null    object\n",
      " 1   fulltext  189 non-null    object\n",
      "dtypes: object(2)\n",
      "memory usage: 3.2+ KB\n"
     ]
    }
   ],
   "source": [
    "Corpus.info()"
   ]
  },
  {
   "cell_type": "code",
   "execution_count": 5,
   "metadata": {},
   "outputs": [
    {
     "data": {
      "text/html": [
       "<div>\n",
       "<style scoped>\n",
       "    .dataframe tbody tr th:only-of-type {\n",
       "        vertical-align: middle;\n",
       "    }\n",
       "\n",
       "    .dataframe tbody tr th {\n",
       "        vertical-align: top;\n",
       "    }\n",
       "\n",
       "    .dataframe thead th {\n",
       "        text-align: right;\n",
       "    }\n",
       "</style>\n",
       "<table border=\"1\" class=\"dataframe\">\n",
       "  <thead>\n",
       "    <tr style=\"text-align: right;\">\n",
       "      <th></th>\n",
       "      <th>category</th>\n",
       "      <th>fulltext</th>\n",
       "    </tr>\n",
       "  </thead>\n",
       "  <tbody>\n",
       "    <tr>\n",
       "      <th>0</th>\n",
       "      <td>accountability</td>\n",
       "      <td>United Nations    A/60/846/Add.6       Gener...</td>\n",
       "    </tr>\n",
       "    <tr>\n",
       "      <th>1</th>\n",
       "      <td>accountability</td>\n",
       "      <td>United Nations    A/71/729      General Asse...</td>\n",
       "    </tr>\n",
       "    <tr>\n",
       "      <th>2</th>\n",
       "      <td>accountability</td>\n",
       "      <td>United Nations    A/72/492      General Asse...</td>\n",
       "    </tr>\n",
       "    <tr>\n",
       "      <th>3</th>\n",
       "      <td>accountability</td>\n",
       "      <td>United Nations    A/72/492/Add.2      Genera...</td>\n",
       "    </tr>\n",
       "    <tr>\n",
       "      <th>4</th>\n",
       "      <td>accountability</td>\n",
       "      <td>United Nations    A/73/688      General Asse...</td>\n",
       "    </tr>\n",
       "  </tbody>\n",
       "</table>\n",
       "</div>"
      ],
      "text/plain": [
       "         category                                           fulltext\n",
       "0  accountability    United Nations    A/60/846/Add.6       Gener...\n",
       "1  accountability    United Nations    A/71/729      General Asse...\n",
       "2  accountability    United Nations    A/72/492      General Asse...\n",
       "3  accountability    United Nations    A/72/492/Add.2      Genera...\n",
       "4  accountability    United Nations    A/73/688      General Asse..."
      ]
     },
     "execution_count": 5,
     "metadata": {},
     "output_type": "execute_result"
    }
   ],
   "source": [
    "Corpus.head()"
   ]
  },
  {
   "cell_type": "code",
   "execution_count": 6,
   "metadata": {},
   "outputs": [
    {
     "data": {
      "text/plain": [
       "category\n",
       "travel                  75\n",
       "human resources         66\n",
       "accountability          42\n",
       "health and wellbeing    11\n",
       "Name: count, dtype: int64"
      ]
     },
     "execution_count": 6,
     "metadata": {},
     "output_type": "execute_result"
    }
   ],
   "source": [
    "Corpus[\"category\"].value_counts()"
   ]
  },
  {
   "cell_type": "code",
   "execution_count": 7,
   "metadata": {},
   "outputs": [
    {
     "data": {
      "image/png": "[encoded data removed]",
      "text/plain": [
       "<Figure size 640x480 with 1 Axes>"
      ]
     },
     "metadata": {},
     "output_type": "display_data"
    }
   ],
   "source": [
    "# How long are the texts in the dataset?\n",
    "Corpus[\"wordcount\"] = Corpus[\"fulltext\"].apply(lambda x: len(str(x).split(\" \")))\n",
    "# plot wordcount per category\n",
    "Corpus.boxplot(\"wordcount\", by=\"category\", grid=False, showfliers=False)\n",
    "plt.suptitle(\"\")\n",
    "plt.xlabel(\"\")\n",
    "plt.xticks(rotation=90)\n",
    "plt.show()"
   ]
  },
  {
   "cell_type": "code",
   "execution_count": 8,
   "metadata": {},
   "outputs": [
    {
     "data": {
      "image/png": "[encoded data removed]",
      "text/plain": [
       "<Figure size 1000x600 with 1 Axes>"
      ]
     },
     "metadata": {},
     "output_type": "display_data"
    },
    {
     "data": {
      "image/png": "[encoded data removed]",
      "text/plain": [
       "<Figure size 1000x600 with 1 Axes>"
      ]
     },
     "metadata": {},
     "output_type": "display_data"
    }
   ],
   "source": [
    "# plot distribution of wordcount\n",
    "plt.figure(figsize=(10, 6))\n",
    "sns.histplot(Corpus[\"wordcount\"], kde=True)\n",
    "plt.title(\"Distribution of wordcount\")\n",
    "plt.show()\n",
    "# zoom in on the distribution of wordcount\n",
    "plt.figure(figsize=(10, 6))\n",
    "sns.histplot(Corpus[\"wordcount\"], kde=True)\n",
    "plt.xlim(0, 10000)\n",
    "plt.title(\"Distribution of wordcount\")\n",
    "plt.show()\n"
   ]
  },
  {
   "cell_type": "markdown",
   "metadata": {},
   "source": [
    "Majority of the documents are less than 5000 words so we will only retain those after data cleaning."
   ]
  },
  {
   "cell_type": "code",
   "execution_count": 9,
   "metadata": {},
   "outputs": [
    {
     "data": {
      "image/png": "[encoded data removed]",
      "text/plain": [
       "<Figure size 1000x600 with 1 Axes>"
      ]
     },
     "metadata": {},
     "output_type": "display_data"
    }
   ],
   "source": [
    "# show category distribution bar horizontal\n",
    "Corpus[\"category\"].value_counts(ascending=True).plot(kind='barh', figsize=(10, 6))\n",
    "plt.xlabel('Number of samples')\n",
    "plt.ylabel('Category')\n",
    "plt.title('Frequency of each category')\n",
    "plt.show()\n"
   ]
  },
  {
   "cell_type": "markdown",
   "metadata": {},
   "source": [
    "As we can see from the category distribution, we have an imbalance data set. We will have to address before training the model. We will use the F1 score for the metric instead of accuracy."
   ]
  },
  {
   "cell_type": "markdown",
   "metadata": {},
   "source": [
    "### Data Pre-processing\n",
    "\n",
    "1. Remove rows with blank values\n",
    "Remove rows where wordcount > 5000\n",
    "2. Change all to lower case\n",
    "3. Tokenization\n",
    "4. Remove stop words\n",
    "5. Remove non-alpha text\n",
    "6. Word Lemmatization\n"
   ]
  },
  {
   "cell_type": "code",
   "execution_count": 10,
   "metadata": {},
   "outputs": [
    {
     "data": {
      "text/plain": [
       "category     0\n",
       "fulltext     5\n",
       "wordcount    0\n",
       "dtype: int64"
      ]
     },
     "execution_count": 10,
     "metadata": {},
     "output_type": "execute_result"
    }
   ],
   "source": [
    "Corpus.isnull().sum()"
   ]
  },
  {
   "cell_type": "code",
   "execution_count": 11,
   "metadata": {},
   "outputs": [],
   "source": [
    "Corpus.dropna(inplace=True)"
   ]
  },
  {
   "cell_type": "code",
   "execution_count": 12,
   "metadata": {},
   "outputs": [
    {
     "data": {
      "text/plain": [
       "category     0\n",
       "fulltext     0\n",
       "wordcount    0\n",
       "dtype: int64"
      ]
     },
     "execution_count": 12,
     "metadata": {},
     "output_type": "execute_result"
    }
   ],
   "source": [
    "Corpus.isnull().sum()"
   ]
  },
  {
   "cell_type": "code",
   "execution_count": 13,
   "metadata": {},
   "outputs": [],
   "source": [
    "def stemmer(text):\n",
    "    stem = PorterStemmer()\n",
    "    return ' '.join([stem.stem(w) for w in word_tokenize(text)])"
   ]
  },
  {
   "cell_type": "code",
   "execution_count": 14,
   "metadata": {},
   "outputs": [],
   "source": [
    "Corpus['fulltext'] = Corpus['fulltext'].apply(stemmer)"
   ]
  },
  {
   "cell_type": "code",
   "execution_count": 15,
   "metadata": {},
   "outputs": [
    {
     "data": {
      "text/html": [
       "<div>\n",
       "<style scoped>\n",
       "    .dataframe tbody tr th:only-of-type {\n",
       "        vertical-align: middle;\n",
       "    }\n",
       "\n",
       "    .dataframe tbody tr th {\n",
       "        vertical-align: top;\n",
       "    }\n",
       "\n",
       "    .dataframe thead th {\n",
       "        text-align: right;\n",
       "    }\n",
       "</style>\n",
       "<table border=\"1\" class=\"dataframe\">\n",
       "  <thead>\n",
       "    <tr style=\"text-align: right;\">\n",
       "      <th></th>\n",
       "      <th>category</th>\n",
       "      <th>fulltext</th>\n",
       "      <th>wordcount</th>\n",
       "    </tr>\n",
       "  </thead>\n",
       "  <tbody>\n",
       "    <tr>\n",
       "      <th>0</th>\n",
       "      <td>accountability</td>\n",
       "      <td>unit nation a/60/846/add.6 gener assembl distr...</td>\n",
       "      <td>8881</td>\n",
       "    </tr>\n",
       "    <tr>\n",
       "      <th>1</th>\n",
       "      <td>accountability</td>\n",
       "      <td>unit nation a/71/729 gener assembl distr . : g...</td>\n",
       "      <td>10917</td>\n",
       "    </tr>\n",
       "    <tr>\n",
       "      <th>2</th>\n",
       "      <td>accountability</td>\n",
       "      <td>unit nation a/72/492 gener assembl distr . : g...</td>\n",
       "      <td>16716</td>\n",
       "    </tr>\n",
       "    <tr>\n",
       "      <th>3</th>\n",
       "      <td>accountability</td>\n",
       "      <td>unit nation a/72/492/add.2 gener assembl distr...</td>\n",
       "      <td>126181</td>\n",
       "    </tr>\n",
       "    <tr>\n",
       "      <th>4</th>\n",
       "      <td>accountability</td>\n",
       "      <td>unit nation a/73/688 gener assembl distr . : g...</td>\n",
       "      <td>14427</td>\n",
       "    </tr>\n",
       "  </tbody>\n",
       "</table>\n",
       "</div>"
      ],
      "text/plain": [
       "         category                                           fulltext  \\\n",
       "0  accountability  unit nation a/60/846/add.6 gener assembl distr...   \n",
       "1  accountability  unit nation a/71/729 gener assembl distr . : g...   \n",
       "2  accountability  unit nation a/72/492 gener assembl distr . : g...   \n",
       "3  accountability  unit nation a/72/492/add.2 gener assembl distr...   \n",
       "4  accountability  unit nation a/73/688 gener assembl distr . : g...   \n",
       "\n",
       "   wordcount  \n",
       "0       8881  \n",
       "1      10917  \n",
       "2      16716  \n",
       "3     126181  \n",
       "4      14427  "
      ]
     },
     "execution_count": 15,
     "metadata": {},
     "output_type": "execute_result"
    }
   ],
   "source": [
    "Corpus.head()"
   ]
  },
  {
   "cell_type": "code",
   "execution_count": 16,
   "metadata": {},
   "outputs": [
    {
     "data": {
      "text/plain": [
       "category     0\n",
       "fulltext     0\n",
       "wordcount    0\n",
       "dtype: int64"
      ]
     },
     "execution_count": 16,
     "metadata": {},
     "output_type": "execute_result"
    }
   ],
   "source": [
    "# Check number of rows for missing values\n",
    "Corpus.isnull().sum()"
   ]
  },
  {
   "cell_type": "code",
   "execution_count": 17,
   "metadata": {},
   "outputs": [
    {
     "data": {
      "text/html": [
       "<div>\n",
       "<style scoped>\n",
       "    .dataframe tbody tr th:only-of-type {\n",
       "        vertical-align: middle;\n",
       "    }\n",
       "\n",
       "    .dataframe tbody tr th {\n",
       "        vertical-align: top;\n",
       "    }\n",
       "\n",
       "    .dataframe thead th {\n",
       "        text-align: right;\n",
       "    }\n",
       "</style>\n",
       "<table border=\"1\" class=\"dataframe\">\n",
       "  <thead>\n",
       "    <tr style=\"text-align: right;\">\n",
       "      <th></th>\n",
       "      <th>category</th>\n",
       "      <th>fulltext</th>\n",
       "      <th>wordcount</th>\n",
       "    </tr>\n",
       "  </thead>\n",
       "  <tbody>\n",
       "  </tbody>\n",
       "</table>\n",
       "</div>"
      ],
      "text/plain": [
       "Empty DataFrame\n",
       "Columns: [category, fulltext, wordcount]\n",
       "Index: []"
      ]
     },
     "execution_count": 17,
     "metadata": {},
     "output_type": "execute_result"
    }
   ],
   "source": [
    "# show record in Corpus with nan values\n",
    "Corpus[Corpus.isnull().any(axis=1)]"
   ]
  },
  {
   "cell_type": "code",
   "execution_count": 18,
   "metadata": {},
   "outputs": [],
   "source": [
    "# Remove rows with empty fields\n",
    "Corpus = Corpus.dropna()"
   ]
  },
  {
   "cell_type": "code",
   "execution_count": 19,
   "metadata": {},
   "outputs": [
    {
     "data": {
      "text/plain": [
       "category     0\n",
       "fulltext     0\n",
       "wordcount    0\n",
       "dtype: int64"
      ]
     },
     "execution_count": 19,
     "metadata": {},
     "output_type": "execute_result"
    }
   ],
   "source": [
    "# Re-check number of rows for missing values\n",
    "Corpus.isnull().sum()"
   ]
  },
  {
   "cell_type": "code",
   "execution_count": 20,
   "metadata": {},
   "outputs": [
    {
     "data": {
      "text/plain": [
       "category\n",
       "travel                  74\n",
       "human resources         64\n",
       "accountability          40\n",
       "health and wellbeing    11\n",
       "Name: count, dtype: int64"
      ]
     },
     "execution_count": 20,
     "metadata": {},
     "output_type": "execute_result"
    }
   ],
   "source": [
    "Corpus[\"category\"].value_counts()"
   ]
  },
  {
   "cell_type": "markdown",
   "metadata": {},
   "source": [
    "### Prepare Train and Test Data"
   ]
  },
  {
   "cell_type": "code",
   "execution_count": 21,
   "metadata": {},
   "outputs": [],
   "source": [
    "# Prepare test data\n",
    "X_train, X_test, y_train, y_test = train_test_split(Corpus['fulltext'], Corpus['category'], test_size=0.3, stratify=Corpus['category'].values)"
   ]
  },
  {
   "cell_type": "code",
   "execution_count": 22,
   "metadata": {},
   "outputs": [
    {
     "data": {
      "text/plain": [
       "category\n",
       "travel                  51\n",
       "human resources         45\n",
       "accountability          28\n",
       "health and wellbeing     8\n",
       "Name: count, dtype: int64"
      ]
     },
     "execution_count": 22,
     "metadata": {},
     "output_type": "execute_result"
    }
   ],
   "source": [
    "# show value counts for training set\n",
    "y_train.value_counts()"
   ]
  },
  {
   "cell_type": "code",
   "execution_count": 23,
   "metadata": {},
   "outputs": [
    {
     "data": {
      "text/plain": [
       "category\n",
       "travel                  23\n",
       "human resources         19\n",
       "accountability          12\n",
       "health and wellbeing     3\n",
       "Name: count, dtype: int64"
      ]
     },
     "execution_count": 23,
     "metadata": {},
     "output_type": "execute_result"
    }
   ],
   "source": [
    "# show value counts for test set\n",
    "y_test.value_counts()"
   ]
  },
  {
   "cell_type": "code",
   "execution_count": 24,
   "metadata": {},
   "outputs": [
    {
     "name": "stdout",
     "output_type": "stream",
     "text": [
      "Original dataset shape Counter({'travel': 51, 'human resources': 45, 'accountability': 28, 'health and wellbeing': 8})\n"
     ]
    }
   ],
   "source": [
    "print('Original dataset shape %s' % Counter(y_train))"
   ]
  },
  {
   "cell_type": "markdown",
   "metadata": {},
   "source": [
    "### Encode category"
   ]
  },
  {
   "cell_type": "code",
   "execution_count": 25,
   "metadata": {},
   "outputs": [],
   "source": [
    "Encoder = LabelEncoder()\n",
    "y_train = Encoder.fit_transform(y_train)\n",
    "y_test = Encoder.fit_transform(y_test)"
   ]
  },
  {
   "cell_type": "code",
   "execution_count": 26,
   "metadata": {},
   "outputs": [
    {
     "data": {
      "text/plain": [
       "array([0, 1, 2, 3])"
      ]
     },
     "execution_count": 26,
     "metadata": {},
     "output_type": "execute_result"
    }
   ],
   "source": [
    "# Check if all classes are represented in the training set\n",
    "np.unique(y_train)"
   ]
  },
  {
   "cell_type": "code",
   "execution_count": 27,
   "metadata": {},
   "outputs": [
    {
     "data": {
      "text/plain": [
       "array([0, 1, 2, 3])"
      ]
     },
     "execution_count": 27,
     "metadata": {},
     "output_type": "execute_result"
    }
   ],
   "source": [
    "# Check if all classes are represented in the test set\n",
    "np.unique(y_test)"
   ]
  },
  {
   "cell_type": "code",
   "execution_count": 28,
   "metadata": {},
   "outputs": [],
   "source": [
    "# Define labels and target names\n",
    "labels = [0, 1, 2, 3]\n",
    "target_names = ['accountability', 'health and wellbeing', 'human resources', 'travel']"
   ]
  },
  {
   "cell_type": "code",
   "execution_count": 29,
   "metadata": {},
   "outputs": [],
   "source": [
    "# Define Pipelines using CountVectorizer\n",
    "\n",
    "# Baseline\n",
    "cvect_base_pipeline = Pipeline([('vect', CountVectorizer(stop_words='english', token_pattern=r'\\b[^\\d\\W]+\\b')),\n",
    "                                ('resample', SMOTETomek(sampling_strategy='auto',smote=SMOTE(k_neighbors=2),tomek=TomekLinks())),\n",
    "                                ('dclass', DummyClassifier(strategy='stratified'))])\n",
    "\n",
    "# Logistic Regression\n",
    "cvect_log_pipeline = Pipeline([('vect', CountVectorizer(stop_words='english', token_pattern=r'\\b[^\\d\\W]+\\b')),\n",
    "                               ('resample', SMOTETomek(sampling_strategy='auto',smote=SMOTE(k_neighbors=2),tomek=TomekLinks())),\n",
    "                               ('log', LogisticRegression(max_iter=10000))])\n",
    "\n",
    "# Naive Bayes\n",
    "cvect_nb_pipeline = Pipeline([('vect', CountVectorizer(stop_words='english', token_pattern=r'\\b[^\\d\\W]+\\b')),\n",
    "                              ('resample', SMOTETomek(sampling_strategy='auto',smote=SMOTE(k_neighbors=2),tomek=TomekLinks())),\n",
    "                              ('nb', MultinomialNB())])\n",
    "\n",
    "# SVM\n",
    "cvect_svm_pipeline = Pipeline([('vect', CountVectorizer(stop_words='english', token_pattern=r'\\b[^\\d\\W]+\\b')),\n",
    "                               ('resample', SMOTETomek(sampling_strategy='auto',smote=SMOTE(k_neighbors=2),tomek=TomekLinks())),\n",
    "                               ('svm', SVC())])"
   ]
  },
  {
   "cell_type": "code",
   "execution_count": 30,
   "metadata": {},
   "outputs": [],
   "source": [
    "# Define Pipelines using TfidfVectorizer\n",
    "\n",
    "# Baseline\n",
    "tvect_base_pipeline = Pipeline([('vect', TfidfVectorizer(stop_words='english', token_pattern=r'\\b[^\\d\\W]+\\b')),\n",
    "                                ('resample', SMOTETomek(sampling_strategy='auto',smote=SMOTE(k_neighbors=2),tomek=TomekLinks())),\n",
    "                                ('dclass', DummyClassifier(strategy='stratified'))])\n",
    "\n",
    "# Logistic Regression\n",
    "tvect_log_pipeline = Pipeline([('vect', TfidfVectorizer(stop_words='english', token_pattern=r'\\b[^\\d\\W]+\\b')),\n",
    "                               ('resample', SMOTETomek(sampling_strategy='auto',smote=SMOTE(k_neighbors=2),tomek=TomekLinks())),\n",
    "                                ('log', LogisticRegression(max_iter=10000))])\n",
    "\n",
    "# Naive Bayes\n",
    "tvect_nb_pipeline = Pipeline([('vect', TfidfVectorizer(stop_words='english', token_pattern=r'\\b[^\\d\\W]+\\b')),\n",
    "                              ('resample', SMOTETomek(sampling_strategy='auto',smote=SMOTE(k_neighbors=2),tomek=TomekLinks())),\n",
    "                              ('nb', MultinomialNB())])\n",
    "\n",
    "# SVM\n",
    "cvect_svm_pipeline = Pipeline([('vect', CountVectorizer(stop_words='english', token_pattern=r'\\b[^\\d\\W]+\\b')),\n",
    "                               ('resample', SMOTETomek(sampling_strategy='auto',smote=SMOTE(k_neighbors=2),tomek=TomekLinks())),\n",
    "                               ('svm', SVC())])"
   ]
  },
  {
   "cell_type": "code",
   "execution_count": 31,
   "metadata": {},
   "outputs": [],
   "source": [
    "# Define parameters for GridSearchCV\n",
    "\n",
    "# CountVectorizer - Logistic Regression\n",
    "log_param = {'vect__max_features': [100, 500, 1000, 2000],\n",
    "             'log__C': [0.1, 1, 10, 100]}\n",
    "\n",
    "# CountVectorizer - Naive Bayes\n",
    "nb_param = {'vect__max_features': [100, 500, 1000, 2000],\n",
    "             'nb__alpha': [0.1, 1, 10, 100]}\n",
    "\n",
    "# CountVectorizer - SVM\n",
    "svm_param = {'vect__max_features': [100, 500, 1000, 2000],\n",
    "             'svm__C': [0.1, 1, 10, 100]}"
   ]
  },
  {
   "cell_type": "code",
   "execution_count": 32,
   "metadata": {},
   "outputs": [],
   "source": [
    "# Function to train and evaluate models\n",
    "def train_eval_model(pipeline, X_train, y_train, X_test, y_test, target_names, labels):\n",
    "    pipeline.fit(X_train, y_train)\n",
    "    y_pred = pipeline.predict(X_test)\n",
    "    print(pipeline.named_steps)\n",
    "    print(classification_report(y_test, y_pred, target_names=target_names, labels=labels))\n",
    "    return y_pred\n",
    "    "
   ]
  },
  {
   "cell_type": "code",
   "execution_count": 33,
   "metadata": {},
   "outputs": [],
   "source": [
    "# Function to train and tune models\n",
    "def train_tune_model(pipeline, X_train, y_train, X_test, y_test, target_names, labels, param_grid):\n",
    "    grid = GridSearchCV(pipeline, param_grid)\n",
    "    grid.fit(X_train, y_train)\n",
    "    y_pred = grid.predict(X_test)\n",
    "    print(pipeline.named_steps)\n",
    "    print(grid.best_params_)\n",
    "    print(classification_report(y_test, y_pred, target_names=target_names, labels=labels))\n",
    "    return y_pred"
   ]
  },
  {
   "cell_type": "code",
   "execution_count": 34,
   "metadata": {},
   "outputs": [],
   "source": [
    "# Function to confusion matrix\n",
    "def show_conf_matrix(y_test, y_pred, labels, title):\n",
    "    conf_matrix = confusion_matrix(y_test, y_pred)\n",
    "    fig, ax = plt.subplots(figsize=(4, 4))\n",
    "    disp = ConfusionMatrixDisplay(confusion_matrix=conf_matrix, display_labels=labels)\n",
    "    disp.plot(cmap=\"Blues\", ax=ax, colorbar=False)\n",
    "    plt.title(title)\n",
    "    plt.xticks(rotation=90)\n",
    "    plt.show()"
   ]
  },
  {
   "cell_type": "markdown",
   "metadata": {},
   "source": [
    "### Evaluate models using CountVectorizer for feature extraction"
   ]
  },
  {
   "cell_type": "markdown",
   "metadata": {},
   "source": [
    "#### Default parameters"
   ]
  },
  {
   "cell_type": "code",
   "execution_count": 35,
   "metadata": {},
   "outputs": [
    {
     "name": "stdout",
     "output_type": "stream",
     "text": [
      "{'vect': CountVectorizer(stop_words='english', token_pattern='\\\\b[^\\\\d\\\\W]+\\\\b'), 'resample': SMOTETomek(smote=SMOTE(k_neighbors=2), tomek=TomekLinks()), 'dclass': DummyClassifier(strategy='stratified')}\n",
      "                      precision    recall  f1-score   support\n",
      "\n",
      "      accountability       0.36      0.42      0.38        12\n",
      "health and wellbeing       0.07      0.33      0.12         3\n",
      "     human resources       0.23      0.16      0.19        19\n",
      "              travel       0.44      0.30      0.36        23\n",
      "\n",
      "            accuracy                           0.28        57\n",
      "           macro avg       0.27      0.30      0.26        57\n",
      "        weighted avg       0.33      0.28      0.29        57\n",
      "\n"
     ]
    },
    {
     "data": {
      "text/plain": [
       "array([1, 3, 1, 2, 1, 0, 2, 2, 0, 1, 2, 1, 0, 3, 1, 1, 3, 0, 3, 0, 3, 1,\n",
       "       2, 0, 3, 3, 1, 3, 2, 0, 2, 2, 3, 1, 0, 1, 1, 0, 2, 3, 2, 1, 3, 3,\n",
       "       3, 3, 2, 0, 2, 1, 0, 0, 3, 0, 3, 0, 2])"
      ]
     },
     "execution_count": 35,
     "metadata": {},
     "output_type": "execute_result"
    }
   ],
   "source": [
    "# Baseline\n",
    "train_eval_model(cvect_base_pipeline, X_train, y_train, X_test, y_test, target_names, labels)"
   ]
  },
  {
   "cell_type": "code",
   "execution_count": 36,
   "metadata": {},
   "outputs": [
    {
     "name": "stdout",
     "output_type": "stream",
     "text": [
      "{'vect': CountVectorizer(stop_words='english', token_pattern='\\\\b[^\\\\d\\\\W]+\\\\b'), 'resample': SMOTETomek(smote=SMOTE(k_neighbors=2), tomek=TomekLinks()), 'log': LogisticRegression(max_iter=10000)}\n",
      "                      precision    recall  f1-score   support\n",
      "\n",
      "      accountability       0.82      0.75      0.78        12\n",
      "health and wellbeing       0.00      0.00      0.00         3\n",
      "     human resources       0.62      0.68      0.65        19\n",
      "              travel       0.75      0.78      0.77        23\n",
      "\n",
      "            accuracy                           0.70        57\n",
      "           macro avg       0.55      0.55      0.55        57\n",
      "        weighted avg       0.68      0.70      0.69        57\n",
      "\n"
     ]
    },
    {
     "data": {
      "text/plain": [
       "array([0, 2, 2, 0, 2, 0, 0, 3, 2, 3, 0, 2, 2, 0, 3, 0, 3, 3, 1, 2, 3, 2,\n",
       "       2, 2, 2, 3, 2, 3, 2, 2, 3, 2, 3, 3, 3, 3, 3, 3, 3, 3, 2, 2, 3, 2,\n",
       "       3, 3, 2, 0, 0, 3, 2, 3, 0, 3, 2, 0, 3])"
      ]
     },
     "execution_count": 36,
     "metadata": {},
     "output_type": "execute_result"
    }
   ],
   "source": [
    "# Logistic Regression\n",
    "train_eval_model(cvect_log_pipeline, X_train, y_train, X_test, y_test, target_names, labels)"
   ]
  },
  {
   "cell_type": "code",
   "execution_count": 37,
   "metadata": {},
   "outputs": [
    {
     "name": "stdout",
     "output_type": "stream",
     "text": [
      "{'vect': CountVectorizer(stop_words='english', token_pattern='\\\\b[^\\\\d\\\\W]+\\\\b'), 'resample': SMOTETomek(smote=SMOTE(k_neighbors=2), tomek=TomekLinks()), 'nb': MultinomialNB()}\n",
      "                      precision    recall  f1-score   support\n",
      "\n",
      "      accountability       0.83      0.83      0.83        12\n",
      "health and wellbeing       1.00      0.33      0.50         3\n",
      "     human resources       0.62      0.53      0.57        19\n",
      "              travel       0.75      0.91      0.82        23\n",
      "\n",
      "            accuracy                           0.74        57\n",
      "           macro avg       0.80      0.65      0.68        57\n",
      "        weighted avg       0.74      0.74      0.72        57\n",
      "\n"
     ]
    },
    {
     "data": {
      "text/plain": [
       "array([0, 2, 3, 0, 0, 0, 0, 3, 2, 3, 0, 2, 2, 0, 3, 0, 3, 2, 3, 2, 3, 2,\n",
       "       2, 3, 2, 3, 2, 3, 2, 2, 3, 2, 3, 0, 3, 3, 3, 3, 3, 1, 3, 2, 3, 2,\n",
       "       3, 3, 3, 0, 3, 3, 2, 3, 3, 3, 0, 0, 3])"
      ]
     },
     "execution_count": 37,
     "metadata": {},
     "output_type": "execute_result"
    }
   ],
   "source": [
    "# Naive Bayes\n",
    "train_eval_model(cvect_nb_pipeline, X_train, y_train, X_test, y_test, target_names, labels)"
   ]
  },
  {
   "cell_type": "code",
   "execution_count": 38,
   "metadata": {},
   "outputs": [
    {
     "name": "stdout",
     "output_type": "stream",
     "text": [
      "{'vect': CountVectorizer(stop_words='english', token_pattern='\\\\b[^\\\\d\\\\W]+\\\\b'), 'resample': SMOTETomek(smote=SMOTE(k_neighbors=2), tomek=TomekLinks()), 'svm': SVC()}\n",
      "                      precision    recall  f1-score   support\n",
      "\n",
      "      accountability       0.89      0.67      0.76        12\n",
      "health and wellbeing       0.11      0.67      0.18         3\n",
      "     human resources       0.67      0.11      0.18        19\n",
      "              travel       0.58      0.65      0.61        23\n",
      "\n",
      "            accuracy                           0.47        57\n",
      "           macro avg       0.56      0.52      0.43        57\n",
      "        weighted avg       0.65      0.47      0.48        57\n",
      "\n"
     ]
    },
    {
     "data": {
      "text/plain": [
       "array([0, 1, 1, 0, 1, 3, 0, 3, 1, 3, 0, 1, 3, 0, 3, 1, 3, 3, 3, 3, 3, 1,\n",
       "       1, 3, 1, 3, 3, 1, 3, 3, 3, 3, 3, 0, 2, 1, 1, 1, 3, 0, 1, 2, 1, 1,\n",
       "       3, 3, 1, 0, 3, 3, 3, 3, 1, 1, 2, 0, 3])"
      ]
     },
     "execution_count": 38,
     "metadata": {},
     "output_type": "execute_result"
    }
   ],
   "source": [
    "# SVM\n",
    "train_eval_model(cvect_svm_pipeline, X_train, y_train, X_test, y_test, target_names, labels)\n"
   ]
  },
  {
   "cell_type": "markdown",
   "metadata": {},
   "source": [
    "#### Tune hyperparameters"
   ]
  },
  {
   "cell_type": "code",
   "execution_count": 39,
   "metadata": {},
   "outputs": [
    {
     "name": "stdout",
     "output_type": "stream",
     "text": [
      "{'vect': CountVectorizer(stop_words='english', token_pattern='\\\\b[^\\\\d\\\\W]+\\\\b'), 'resample': SMOTETomek(smote=SMOTE(k_neighbors=2), tomek=TomekLinks()), 'log': LogisticRegression(max_iter=10000)}\n",
      "{'log__C': 0.1, 'vect__max_features': 2000}\n",
      "                      precision    recall  f1-score   support\n",
      "\n",
      "      accountability       0.90      0.75      0.82        12\n",
      "health and wellbeing       0.50      0.33      0.40         3\n",
      "     human resources       0.62      0.68      0.65        19\n",
      "              travel       0.79      0.83      0.81        23\n",
      "\n",
      "            accuracy                           0.74        57\n",
      "           macro avg       0.70      0.65      0.67        57\n",
      "        weighted avg       0.74      0.74      0.74        57\n",
      "\n"
     ]
    },
    {
     "data": {
      "text/plain": [
       "array([0, 2, 2, 0, 2, 0, 0, 3, 2, 3, 0, 2, 2, 0, 3, 0, 3, 3, 1, 2, 3, 2,\n",
       "       2, 3, 2, 3, 2, 3, 2, 2, 3, 2, 3, 3, 3, 2, 3, 3, 3, 1, 2, 2, 3, 2,\n",
       "       3, 3, 3, 0, 2, 3, 2, 3, 0, 3, 2, 0, 3])"
      ]
     },
     "execution_count": 39,
     "metadata": {},
     "output_type": "execute_result"
    }
   ],
   "source": [
    "# Logistic Regression\n",
    "train_tune_model(cvect_log_pipeline, X_train, y_train, X_test, y_test, target_names, labels, log_param)"
   ]
  },
  {
   "cell_type": "code",
   "execution_count": 40,
   "metadata": {},
   "outputs": [
    {
     "name": "stdout",
     "output_type": "stream",
     "text": [
      "{'vect': CountVectorizer(stop_words='english', token_pattern='\\\\b[^\\\\d\\\\W]+\\\\b'), 'resample': SMOTETomek(smote=SMOTE(k_neighbors=2), tomek=TomekLinks()), 'nb': MultinomialNB()}\n",
      "{'nb__alpha': 1, 'vect__max_features': 1000}\n",
      "                      precision    recall  f1-score   support\n",
      "\n",
      "      accountability       0.83      0.83      0.83        12\n",
      "health and wellbeing       1.00      0.33      0.50         3\n",
      "     human resources       0.62      0.53      0.57        19\n",
      "              travel       0.75      0.91      0.82        23\n",
      "\n",
      "            accuracy                           0.74        57\n",
      "           macro avg       0.80      0.65      0.68        57\n",
      "        weighted avg       0.74      0.74      0.72        57\n",
      "\n"
     ]
    },
    {
     "data": {
      "text/plain": [
       "array([0, 2, 3, 0, 0, 0, 0, 3, 2, 3, 0, 2, 2, 0, 3, 0, 3, 2, 3, 2, 3, 2,\n",
       "       2, 3, 2, 3, 2, 3, 2, 2, 3, 2, 3, 0, 3, 3, 3, 3, 3, 1, 3, 2, 3, 2,\n",
       "       3, 3, 3, 0, 3, 3, 2, 3, 3, 3, 0, 0, 3])"
      ]
     },
     "execution_count": 40,
     "metadata": {},
     "output_type": "execute_result"
    }
   ],
   "source": [
    "# Naive Bayes\n",
    "train_tune_model(cvect_nb_pipeline, X_train, y_train, X_test, y_test, target_names, labels, nb_param)"
   ]
  },
  {
   "cell_type": "code",
   "execution_count": 41,
   "metadata": {},
   "outputs": [
    {
     "name": "stdout",
     "output_type": "stream",
     "text": [
      "{'vect': CountVectorizer(stop_words='english', token_pattern='\\\\b[^\\\\d\\\\W]+\\\\b'), 'resample': SMOTETomek(smote=SMOTE(k_neighbors=2), tomek=TomekLinks()), 'svm': SVC()}\n",
      "{'svm__C': 10, 'vect__max_features': 1000}\n",
      "                      precision    recall  f1-score   support\n",
      "\n",
      "      accountability       0.90      0.75      0.82        12\n",
      "health and wellbeing       0.00      0.00      0.00         3\n",
      "     human resources       0.59      0.68      0.63        19\n",
      "              travel       0.79      0.83      0.81        23\n",
      "\n",
      "            accuracy                           0.72        57\n",
      "           macro avg       0.57      0.57      0.57        57\n",
      "        weighted avg       0.71      0.72      0.71        57\n",
      "\n"
     ]
    },
    {
     "data": {
      "text/plain": [
       "array([0, 2, 2, 0, 2, 2, 0, 3, 2, 3, 0, 2, 2, 0, 3, 0, 3, 3, 1, 2, 3, 2,\n",
       "       2, 3, 2, 3, 2, 3, 3, 2, 3, 2, 3, 0, 3, 3, 3, 3, 3, 0, 2, 2, 3, 2,\n",
       "       3, 2, 3, 0, 2, 3, 2, 3, 2, 3, 2, 0, 3])"
      ]
     },
     "execution_count": 41,
     "metadata": {},
     "output_type": "execute_result"
    }
   ],
   "source": [
    "# SVM\n",
    "train_tune_model(cvect_svm_pipeline, X_train, y_train, X_test, y_test, target_names, labels, svm_param)"
   ]
  },
  {
   "cell_type": "markdown",
   "metadata": {},
   "source": [
    "### Evaluate models using TfidfVectorizer feature extraction"
   ]
  },
  {
   "cell_type": "markdown",
   "metadata": {},
   "source": [
    "#### Default parameters"
   ]
  },
  {
   "cell_type": "code",
   "execution_count": 42,
   "metadata": {},
   "outputs": [
    {
     "name": "stdout",
     "output_type": "stream",
     "text": [
      "{'vect': TfidfVectorizer(stop_words='english', token_pattern='\\\\b[^\\\\d\\\\W]+\\\\b'), 'resample': SMOTETomek(smote=SMOTE(k_neighbors=2), tomek=TomekLinks()), 'dclass': DummyClassifier(strategy='stratified')}\n",
      "                      precision    recall  f1-score   support\n",
      "\n",
      "      accountability       0.20      0.25      0.22        12\n",
      "health and wellbeing       0.15      0.67      0.25         3\n",
      "     human resources       0.46      0.32      0.38        19\n",
      "              travel       0.44      0.30      0.36        23\n",
      "\n",
      "            accuracy                           0.32        57\n",
      "           macro avg       0.31      0.38      0.30        57\n",
      "        weighted avg       0.38      0.32      0.33        57\n",
      "\n"
     ]
    },
    {
     "data": {
      "text/plain": [
       "array([0, 0, 3, 2, 0, 3, 3, 3, 3, 3, 0, 1, 1, 3, 1, 2, 1, 1, 1, 2, 2, 2,\n",
       "       3, 1, 0, 0, 3, 1, 2, 3, 1, 2, 3, 0, 3, 2, 0, 0, 0, 1, 0, 2, 2, 0,\n",
       "       2, 3, 3, 1, 2, 0, 1, 0, 3, 1, 0, 3, 2])"
      ]
     },
     "execution_count": 42,
     "metadata": {},
     "output_type": "execute_result"
    }
   ],
   "source": [
    "# Baseline\n",
    "train_eval_model(tvect_base_pipeline, X_train, y_train, X_test, y_test, target_names, labels)"
   ]
  },
  {
   "cell_type": "code",
   "execution_count": 43,
   "metadata": {},
   "outputs": [
    {
     "name": "stdout",
     "output_type": "stream",
     "text": [
      "{'vect': TfidfVectorizer(stop_words='english', token_pattern='\\\\b[^\\\\d\\\\W]+\\\\b'), 'resample': SMOTETomek(smote=SMOTE(k_neighbors=2), tomek=TomekLinks()), 'log': LogisticRegression(max_iter=10000)}\n",
      "                      precision    recall  f1-score   support\n",
      "\n",
      "      accountability       0.91      0.83      0.87        12\n",
      "health and wellbeing       0.67      0.67      0.67         3\n",
      "     human resources       0.72      0.68      0.70        19\n",
      "              travel       0.84      0.91      0.88        23\n",
      "\n",
      "            accuracy                           0.81        57\n",
      "           macro avg       0.78      0.77      0.78        57\n",
      "        weighted avg       0.81      0.81      0.81        57\n",
      "\n"
     ]
    },
    {
     "data": {
      "text/plain": [
       "array([0, 2, 3, 0, 0, 2, 0, 3, 2, 3, 0, 2, 2, 0, 3, 0, 3, 3, 1, 2, 3, 2,\n",
       "       1, 3, 2, 3, 2, 3, 2, 2, 3, 2, 3, 0, 3, 3, 3, 3, 3, 1, 2, 2, 3, 2,\n",
       "       3, 3, 3, 0, 2, 3, 0, 3, 2, 3, 2, 0, 3])"
      ]
     },
     "execution_count": 43,
     "metadata": {},
     "output_type": "execute_result"
    }
   ],
   "source": [
    "# Logistic Regression\n",
    "train_eval_model(tvect_log_pipeline, X_train, y_train, X_test, y_test, target_names, labels)"
   ]
  },
  {
   "cell_type": "code",
   "execution_count": 44,
   "metadata": {},
   "outputs": [
    {
     "name": "stdout",
     "output_type": "stream",
     "text": [
      "{'vect': TfidfVectorizer(stop_words='english', token_pattern='\\\\b[^\\\\d\\\\W]+\\\\b'), 'resample': SMOTETomek(smote=SMOTE(k_neighbors=2), tomek=TomekLinks()), 'nb': MultinomialNB()}\n",
      "                      precision    recall  f1-score   support\n",
      "\n",
      "      accountability       0.63      1.00      0.77        12\n",
      "health and wellbeing       1.00      0.67      0.80         3\n",
      "     human resources       0.90      0.47      0.62        19\n",
      "              travel       0.81      0.91      0.86        23\n",
      "\n",
      "            accuracy                           0.77        57\n",
      "           macro avg       0.83      0.76      0.76        57\n",
      "        weighted avg       0.81      0.77      0.76        57\n",
      "\n"
     ]
    },
    {
     "data": {
      "text/plain": [
       "array([0, 2, 3, 0, 0, 0, 0, 3, 0, 3, 0, 0, 2, 0, 3, 0, 3, 0, 3, 0, 3, 2,\n",
       "       1, 3, 2, 3, 2, 3, 0, 2, 3, 2, 3, 0, 3, 3, 3, 3, 3, 1, 2, 2, 3, 2,\n",
       "       3, 3, 3, 0, 3, 3, 0, 3, 0, 3, 0, 0, 3])"
      ]
     },
     "execution_count": 44,
     "metadata": {},
     "output_type": "execute_result"
    }
   ],
   "source": [
    "# Naive Bayes\n",
    "train_eval_model(tvect_nb_pipeline, X_train, y_train, X_test, y_test, target_names, labels)"
   ]
  },
  {
   "cell_type": "code",
   "execution_count": 45,
   "metadata": {},
   "outputs": [
    {
     "name": "stdout",
     "output_type": "stream",
     "text": [
      "{'vect': CountVectorizer(stop_words='english', token_pattern='\\\\b[^\\\\d\\\\W]+\\\\b'), 'resample': SMOTETomek(smote=SMOTE(k_neighbors=2), tomek=TomekLinks()), 'svm': SVC()}\n",
      "                      precision    recall  f1-score   support\n",
      "\n",
      "      accountability       0.88      0.58      0.70        12\n",
      "health and wellbeing       0.07      0.67      0.13         3\n",
      "     human resources       0.67      0.11      0.18        19\n",
      "              travel       0.61      0.48      0.54        23\n",
      "\n",
      "            accuracy                           0.39        57\n",
      "           macro avg       0.56      0.46      0.39        57\n",
      "        weighted avg       0.66      0.39      0.43        57\n",
      "\n"
     ]
    },
    {
     "data": {
      "text/plain": [
       "array([0, 1, 1, 0, 1, 3, 0, 3, 1, 3, 0, 1, 1, 0, 3, 1, 3, 1, 3, 1, 1, 1,\n",
       "       1, 3, 1, 1, 3, 1, 3, 3, 3, 1, 3, 3, 2, 1, 1, 1, 3, 0, 1, 2, 1, 1,\n",
       "       1, 1, 1, 0, 3, 3, 1, 3, 1, 1, 2, 0, 3])"
      ]
     },
     "execution_count": 45,
     "metadata": {},
     "output_type": "execute_result"
    }
   ],
   "source": [
    "# SVM\n",
    "train_eval_model(cvect_svm_pipeline, X_train, y_train, X_test, y_test, target_names, labels)"
   ]
  },
  {
   "cell_type": "markdown",
   "metadata": {},
   "source": [
    "#### Tune hyperparameters"
   ]
  },
  {
   "cell_type": "code",
   "execution_count": 46,
   "metadata": {},
   "outputs": [
    {
     "name": "stdout",
     "output_type": "stream",
     "text": [
      "{'vect': TfidfVectorizer(stop_words='english', token_pattern='\\\\b[^\\\\d\\\\W]+\\\\b'), 'resample': SMOTETomek(smote=SMOTE(k_neighbors=2), tomek=TomekLinks()), 'log': LogisticRegression(max_iter=10000)}\n",
      "{'log__C': 1, 'vect__max_features': 500}\n",
      "                      precision    recall  f1-score   support\n",
      "\n",
      "      accountability       0.92      0.92      0.92        12\n",
      "health and wellbeing       1.00      0.67      0.80         3\n",
      "     human resources       0.72      0.68      0.70        19\n",
      "              travel       0.80      0.87      0.83        23\n",
      "\n",
      "            accuracy                           0.81        57\n",
      "           macro avg       0.86      0.78      0.81        57\n",
      "        weighted avg       0.81      0.81      0.81        57\n",
      "\n"
     ]
    },
    {
     "data": {
      "text/plain": [
       "array([0, 2, 3, 0, 0, 0, 0, 3, 2, 3, 0, 2, 2, 0, 3, 0, 3, 3, 3, 2, 3, 2,\n",
       "       1, 3, 2, 3, 2, 3, 2, 2, 3, 2, 3, 0, 3, 3, 3, 3, 3, 1, 2, 2, 3, 2,\n",
       "       3, 2, 3, 0, 2, 3, 0, 3, 2, 3, 2, 0, 3])"
      ]
     },
     "execution_count": 46,
     "metadata": {},
     "output_type": "execute_result"
    }
   ],
   "source": [
    "# Logistic Regression\n",
    "train_tune_model(tvect_log_pipeline, X_train, y_train, X_test, y_test, target_names, labels, log_param)"
   ]
  },
  {
   "cell_type": "code",
   "execution_count": 47,
   "metadata": {},
   "outputs": [
    {
     "name": "stdout",
     "output_type": "stream",
     "text": [
      "{'vect': TfidfVectorizer(stop_words='english', token_pattern='\\\\b[^\\\\d\\\\W]+\\\\b'), 'resample': SMOTETomek(smote=SMOTE(k_neighbors=2), tomek=TomekLinks()), 'nb': MultinomialNB()}\n",
      "{'nb__alpha': 0.1, 'vect__max_features': 2000}\n",
      "                      precision    recall  f1-score   support\n",
      "\n",
      "      accountability       0.85      0.92      0.88        12\n",
      "health and wellbeing       1.00      1.00      1.00         3\n",
      "     human resources       0.80      0.63      0.71        19\n",
      "              travel       0.81      0.91      0.86        23\n",
      "\n",
      "            accuracy                           0.82        57\n",
      "           macro avg       0.86      0.87      0.86        57\n",
      "        weighted avg       0.82      0.82      0.82        57\n",
      "\n"
     ]
    },
    {
     "data": {
      "text/plain": [
       "array([0, 2, 3, 0, 0, 0, 0, 3, 2, 3, 0, 1, 2, 0, 3, 0, 3, 3, 3, 2, 3, 2,\n",
       "       1, 2, 2, 3, 2, 3, 2, 2, 3, 2, 3, 0, 3, 3, 3, 3, 3, 1, 2, 2, 3, 2,\n",
       "       3, 3, 3, 0, 3, 3, 0, 3, 2, 3, 0, 0, 3])"
      ]
     },
     "execution_count": 47,
     "metadata": {},
     "output_type": "execute_result"
    }
   ],
   "source": [
    "# Naive Bayes\n",
    "train_tune_model(tvect_nb_pipeline, X_train, y_train, X_test, y_test, target_names, labels, nb_param)"
   ]
  },
  {
   "cell_type": "code",
   "execution_count": 48,
   "metadata": {},
   "outputs": [
    {
     "name": "stdout",
     "output_type": "stream",
     "text": [
      "{'vect': CountVectorizer(stop_words='english', token_pattern='\\\\b[^\\\\d\\\\W]+\\\\b'), 'resample': SMOTETomek(smote=SMOTE(k_neighbors=2), tomek=TomekLinks()), 'svm': SVC()}\n",
      "{'svm__C': 100, 'vect__max_features': 1000}\n",
      "                      precision    recall  f1-score   support\n",
      "\n",
      "      accountability       1.00      0.67      0.80        12\n",
      "health and wellbeing       0.00      0.00      0.00         3\n",
      "     human resources       0.62      0.68      0.65        19\n",
      "              travel       0.74      0.87      0.80        23\n",
      "\n",
      "            accuracy                           0.72        57\n",
      "           macro avg       0.59      0.56      0.56        57\n",
      "        weighted avg       0.72      0.72      0.71        57\n",
      "\n"
     ]
    },
    {
     "data": {
      "text/plain": [
       "array([0, 2, 2, 0, 2, 0, 0, 3, 2, 3, 0, 3, 2, 0, 3, 0, 3, 3, 1, 2, 3, 2,\n",
       "       3, 3, 2, 3, 2, 3, 3, 2, 3, 2, 3, 2, 3, 3, 3, 3, 3, 2, 2, 2, 3, 2,\n",
       "       3, 3, 3, 2, 2, 3, 2, 3, 2, 3, 2, 0, 3])"
      ]
     },
     "execution_count": 48,
     "metadata": {},
     "output_type": "execute_result"
    }
   ],
   "source": [
    "# SVM\n",
    "train_tune_model(cvect_svm_pipeline, X_train, y_train, X_test, y_test, target_names, labels, svm_param)"
   ]
  },
  {
   "cell_type": "code",
   "execution_count": 49,
   "metadata": {},
   "outputs": [
    {
     "name": "stdout",
     "output_type": "stream",
     "text": [
      "{'vect': TfidfVectorizer(stop_words='english', token_pattern='\\\\b[^\\\\d\\\\W]+\\\\b'), 'resample': SMOTETomek(smote=SMOTE(k_neighbors=2), tomek=TomekLinks()), 'nb': MultinomialNB()}\n",
      "{'nb__alpha': 0.1, 'vect__max_features': 500}\n",
      "                      precision    recall  f1-score   support\n",
      "\n",
      "      accountability       0.82      0.75      0.78        12\n",
      "health and wellbeing       1.00      0.67      0.80         3\n",
      "     human resources       0.65      0.58      0.61        19\n",
      "              travel       0.78      0.91      0.84        23\n",
      "\n",
      "            accuracy                           0.75        57\n",
      "           macro avg       0.81      0.73      0.76        57\n",
      "        weighted avg       0.75      0.75      0.75        57\n",
      "\n"
     ]
    },
    {
     "data": {
      "image/png": "[encoded data removed]",
      "text/plain": [
       "<Figure size 400x400 with 1 Axes>"
      ]
     },
     "metadata": {},
     "output_type": "display_data"
    }
   ],
   "source": [
    "show_conf_matrix(y_test, \\\n",
    "    train_tune_model(tvect_nb_pipeline, X_train, y_train, X_test, y_test, target_names, labels, nb_param), \\\n",
    "        target_names, 'Confusion Matrix - Naive Bayes')"
   ]
  }
 ],
 "metadata": {
  "kernelspec": {
   "display_name": "ai-ml",
   "language": "python",
   "name": "python3"
  },
  "language_info": {
   "codemirror_mode": {
    "name": "ipython",
    "version": 3
   },
   "file_extension": ".py",
   "mimetype": "text/x-python",
   "name": "python",
   "nbconvert_exporter": "python",
   "pygments_lexer": "ipython3",
   "version": "3.12.4"
  }
 },
 "nbformat": 4,
 "nbformat_minor": 2
}
