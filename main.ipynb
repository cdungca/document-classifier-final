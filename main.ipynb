{
 "cells": [
  {
   "cell_type": "code",
   "execution_count": 2058,
   "metadata": {},
   "outputs": [
    {
     "name": "stderr",
     "output_type": "stream",
     "text": [
      "[nltk_data] Downloading package wordnet to\n",
      "[nltk_data]     C:\\Users\\CDUNGCA\\AppData\\Roaming\\nltk_data...\n",
      "[nltk_data]   Package wordnet is already up-to-date!\n",
      "[nltk_data] Downloading package punkt to\n",
      "[nltk_data]     C:\\Users\\CDUNGCA\\AppData\\Roaming\\nltk_data...\n",
      "[nltk_data]   Package punkt is already up-to-date!\n",
      "[nltk_data] Downloading package punkt_tab to\n",
      "[nltk_data]     C:\\Users\\CDUNGCA\\AppData\\Roaming\\nltk_data...\n",
      "[nltk_data]   Package punkt_tab is already up-to-date!\n",
      "[nltk_data] Downloading package stopwords to\n",
      "[nltk_data]     C:\\Users\\CDUNGCA\\AppData\\Roaming\\nltk_data...\n",
      "[nltk_data]   Package stopwords is already up-to-date!\n",
      "[nltk_data] Downloading package averaged_perceptron_tagger_eng to\n",
      "[nltk_data]     C:\\Users\\CDUNGCA\\AppData\\Roaming\\nltk_data...\n",
      "[nltk_data]   Package averaged_perceptron_tagger_eng is already up-to-\n",
      "[nltk_data]       date!\n",
      "[nltk_data] Downloading package tagsets_json to\n",
      "[nltk_data]     C:\\Users\\CDUNGCA\\AppData\\Roaming\\nltk_data...\n",
      "[nltk_data]   Package tagsets_json is already up-to-date!\n"
     ]
    }
   ],
   "source": [
    "import warnings\n",
    "import pandas as pd\n",
    "import numpy as np\n",
    "import matplotlib.pyplot as plt\n",
    "import seaborn as sns\n",
    "from sklearn.dummy import DummyClassifier\n",
    "from sklearn.preprocessing import LabelEncoder\n",
    "from sklearn.feature_extraction.text import TfidfVectorizer\n",
    "from sklearn import model_selection, naive_bayes, svm\n",
    "from sklearn.metrics import accuracy_score, classification_report\n",
    "from sklearn.metrics import ConfusionMatrixDisplay, RocCurveDisplay\n",
    "from sklearn.metrics import confusion_matrix, roc_curve, auc\n",
    "from sklearn.linear_model import LogisticRegression\n",
    "from sklearn.naive_bayes import MultinomialNB\n",
    "from sklearn.svm import SVC\n",
    "from sklearn.feature_extraction.text import CountVectorizer, TfidfVectorizer\n",
    "from imblearn.pipeline import Pipeline\n",
    "from imblearn.combine import SMOTETomek\n",
    "from imblearn.over_sampling import SMOTE\n",
    "from imblearn.under_sampling import TomekLinks\n",
    "from sklearn.model_selection import train_test_split, GridSearchCV\n",
    "from collections import Counter, defaultdict\n",
    "import nltk\n",
    "from nltk import word_tokenize\n",
    "from nltk import pos_tag\n",
    "from nltk.corpus import stopwords\n",
    "from nltk.stem import PorterStemmer, WordNetLemmatizer\n",
    "from nltk.corpus import wordnet as wn\n",
    "from wordcloud import WordCloud\n",
    "nltk.download('wordnet')\n",
    "nltk.download('punkt')\n",
    "nltk.download('punkt_tab')\n",
    "nltk.download('stopwords')\n",
    "nltk.download('averaged_perceptron_tagger_eng')\n",
    "nltk.download('tagsets_json')\n",
    "\n",
    "# remove warnings\n",
    "warnings.filterwarnings('ignore')\n"
   ]
  },
  {
   "cell_type": "code",
   "execution_count": 2059,
   "metadata": {},
   "outputs": [],
   "source": [
    "np.random.seed(500)"
   ]
  },
  {
   "cell_type": "code",
   "execution_count": 2060,
   "metadata": {},
   "outputs": [],
   "source": [
    "# Load the data\n",
    "Corpus = pd.read_csv('data/data.csv')"
   ]
  },
  {
   "cell_type": "code",
   "execution_count": 2061,
   "metadata": {},
   "outputs": [
    {
     "name": "stdout",
     "output_type": "stream",
     "text": [
      "<class 'pandas.core.frame.DataFrame'>\n",
      "RangeIndex: 671 entries, 0 to 670\n",
      "Data columns (total 2 columns):\n",
      " #   Column    Non-Null Count  Dtype \n",
      "---  ------    --------------  ----- \n",
      " 0   category  671 non-null    object\n",
      " 1   fulltext  613 non-null    object\n",
      "dtypes: object(2)\n",
      "memory usage: 10.6+ KB\n"
     ]
    }
   ],
   "source": [
    "Corpus.info()"
   ]
  },
  {
   "cell_type": "code",
   "execution_count": 2062,
   "metadata": {},
   "outputs": [
    {
     "data": {
      "text/html": [
       "<div>\n",
       "<style scoped>\n",
       "    .dataframe tbody tr th:only-of-type {\n",
       "        vertical-align: middle;\n",
       "    }\n",
       "\n",
       "    .dataframe tbody tr th {\n",
       "        vertical-align: top;\n",
       "    }\n",
       "\n",
       "    .dataframe thead th {\n",
       "        text-align: right;\n",
       "    }\n",
       "</style>\n",
       "<table border=\"1\" class=\"dataframe\">\n",
       "  <thead>\n",
       "    <tr style=\"text-align: right;\">\n",
       "      <th></th>\n",
       "      <th>category</th>\n",
       "      <th>fulltext</th>\n",
       "    </tr>\n",
       "  </thead>\n",
       "  <tbody>\n",
       "    <tr>\n",
       "      <th>0</th>\n",
       "      <td>accountability</td>\n",
       "      <td>United Nations    A/60/846/Add.6       Gener...</td>\n",
       "    </tr>\n",
       "    <tr>\n",
       "      <th>1</th>\n",
       "      <td>accountability</td>\n",
       "      <td>United Nations    A/71/729      General Asse...</td>\n",
       "    </tr>\n",
       "    <tr>\n",
       "      <th>2</th>\n",
       "      <td>accountability</td>\n",
       "      <td>United Nations    A/72/492      General Asse...</td>\n",
       "    </tr>\n",
       "    <tr>\n",
       "      <th>3</th>\n",
       "      <td>accountability</td>\n",
       "      <td>United Nations    A/72/492/Add.2      Genera...</td>\n",
       "    </tr>\n",
       "    <tr>\n",
       "      <th>4</th>\n",
       "      <td>accountability</td>\n",
       "      <td>United Nations    A/73/688      General Asse...</td>\n",
       "    </tr>\n",
       "  </tbody>\n",
       "</table>\n",
       "</div>"
      ],
      "text/plain": [
       "         category                                           fulltext\n",
       "0  accountability    United Nations    A/60/846/Add.6       Gener...\n",
       "1  accountability    United Nations    A/71/729      General Asse...\n",
       "2  accountability    United Nations    A/72/492      General Asse...\n",
       "3  accountability    United Nations    A/72/492/Add.2      Genera...\n",
       "4  accountability    United Nations    A/73/688      General Asse..."
      ]
     },
     "execution_count": 2062,
     "metadata": {},
     "output_type": "execute_result"
    }
   ],
   "source": [
    "Corpus.head()"
   ]
  },
  {
   "cell_type": "code",
   "execution_count": 2063,
   "metadata": {},
   "outputs": [
    {
     "data": {
      "text/plain": [
       "category\n",
       "human resources               466\n",
       "travel                         78\n",
       "accountability                 42\n",
       "security                       35\n",
       "finance and budget             17\n",
       "information and technology     14\n",
       "health and wellbeing           11\n",
       "property management             8\n",
       "Name: count, dtype: int64"
      ]
     },
     "execution_count": 2063,
     "metadata": {},
     "output_type": "execute_result"
    }
   ],
   "source": [
    "Corpus[\"category\"].value_counts()"
   ]
  },
  {
   "cell_type": "code",
   "execution_count": 2064,
   "metadata": {},
   "outputs": [
    {
     "data": {
      "text/plain": [
       "category     0\n",
       "fulltext    58\n",
       "dtype: int64"
      ]
     },
     "execution_count": 2064,
     "metadata": {},
     "output_type": "execute_result"
    }
   ],
   "source": [
    "Corpus.isnull().sum()"
   ]
  },
  {
   "cell_type": "code",
   "execution_count": 2065,
   "metadata": {},
   "outputs": [
    {
     "data": {
      "image/png": "[encoded data removed]",
      "text/plain": [
       "<Figure size 640x480 with 1 Axes>"
      ]
     },
     "metadata": {},
     "output_type": "display_data"
    }
   ],
   "source": [
    "# How long are the texts in the dataset?\n",
    "Corpus[\"wordcount\"] = Corpus[\"fulltext\"].apply(lambda x: len(str(x).split(\" \")))\n",
    "# plot wordcount per category\n",
    "Corpus.boxplot(\"wordcount\", by=\"category\", grid=False, showfliers=False)\n",
    "plt.suptitle(\"\")\n",
    "plt.xlabel(\"\")\n",
    "plt.xticks(rotation=90)\n",
    "plt.show()\n",
    "\n",
    "\n"
   ]
  },
  {
   "cell_type": "code",
   "execution_count": 2066,
   "metadata": {},
   "outputs": [
    {
     "data": {
      "image/png": "[encoded data removed]",
      "text/plain": [
       "<Figure size 1000x600 with 1 Axes>"
      ]
     },
     "metadata": {},
     "output_type": "display_data"
    },
    {
     "data": {
      "image/png": "[encoded data removed]",
      "text/plain": [
       "<Figure size 1000x600 with 1 Axes>"
      ]
     },
     "metadata": {},
     "output_type": "display_data"
    }
   ],
   "source": [
    "# plot distribution of wordcount\n",
    "plt.figure(figsize=(10, 6))\n",
    "sns.histplot(Corpus[\"wordcount\"], kde=True)\n",
    "plt.title(\"Distribution of wordcount\")\n",
    "plt.show()\n",
    "# zoom in on the distribution of wordcount\n",
    "plt.figure(figsize=(10, 6))\n",
    "sns.histplot(Corpus[\"wordcount\"], kde=True)\n",
    "plt.xlim(0, 10000)\n",
    "plt.title(\"Distribution of wordcount\")\n",
    "plt.show()\n"
   ]
  },
  {
   "cell_type": "markdown",
   "metadata": {},
   "source": [
    "Majority of the documents are less than 5000 words so we will only retain those after data cleaning."
   ]
  },
  {
   "cell_type": "code",
   "execution_count": 2067,
   "metadata": {},
   "outputs": [
    {
     "data": {
      "text/html": [
       "<div>\n",
       "<style scoped>\n",
       "    .dataframe tbody tr th:only-of-type {\n",
       "        vertical-align: middle;\n",
       "    }\n",
       "\n",
       "    .dataframe tbody tr th {\n",
       "        vertical-align: top;\n",
       "    }\n",
       "\n",
       "    .dataframe thead th {\n",
       "        text-align: right;\n",
       "    }\n",
       "</style>\n",
       "<table border=\"1\" class=\"dataframe\">\n",
       "  <thead>\n",
       "    <tr style=\"text-align: right;\">\n",
       "      <th></th>\n",
       "      <th>category</th>\n",
       "      <th>fulltext</th>\n",
       "      <th>wordcount</th>\n",
       "    </tr>\n",
       "  </thead>\n",
       "  <tbody>\n",
       "    <tr>\n",
       "      <th>0</th>\n",
       "      <td>accountability</td>\n",
       "      <td>United Nations    A/60/846/Add.6       Gener...</td>\n",
       "      <td>8881</td>\n",
       "    </tr>\n",
       "    <tr>\n",
       "      <th>1</th>\n",
       "      <td>accountability</td>\n",
       "      <td>United Nations    A/71/729      General Asse...</td>\n",
       "      <td>10917</td>\n",
       "    </tr>\n",
       "    <tr>\n",
       "      <th>2</th>\n",
       "      <td>accountability</td>\n",
       "      <td>United Nations    A/72/492      General Asse...</td>\n",
       "      <td>16716</td>\n",
       "    </tr>\n",
       "    <tr>\n",
       "      <th>3</th>\n",
       "      <td>accountability</td>\n",
       "      <td>United Nations    A/72/492/Add.2      Genera...</td>\n",
       "      <td>126181</td>\n",
       "    </tr>\n",
       "    <tr>\n",
       "      <th>4</th>\n",
       "      <td>accountability</td>\n",
       "      <td>United Nations    A/73/688      General Asse...</td>\n",
       "      <td>14427</td>\n",
       "    </tr>\n",
       "    <tr>\n",
       "      <th>...</th>\n",
       "      <td>...</td>\n",
       "      <td>...</td>\n",
       "      <td>...</td>\n",
       "    </tr>\n",
       "    <tr>\n",
       "      <th>666</th>\n",
       "      <td>travel</td>\n",
       "      <td>United Nations ST/IC/2001/27   Secretariat 10 ...</td>\n",
       "      <td>4542</td>\n",
       "    </tr>\n",
       "    <tr>\n",
       "      <th>667</th>\n",
       "      <td>travel</td>\n",
       "      <td>United Nations    ST/IC/2001/27/Amend.1     ...</td>\n",
       "      <td>305</td>\n",
       "    </tr>\n",
       "    <tr>\n",
       "      <th>668</th>\n",
       "      <td>travel</td>\n",
       "      <td>United Nations    ST/IC/2001/27        Secre...</td>\n",
       "      <td>5463</td>\n",
       "    </tr>\n",
       "    <tr>\n",
       "      <th>669</th>\n",
       "      <td>travel</td>\n",
       "      <td>United Nations    ST/AI/2000/19       Secret...</td>\n",
       "      <td>4049</td>\n",
       "    </tr>\n",
       "    <tr>\n",
       "      <th>670</th>\n",
       "      <td>travel</td>\n",
       "      <td>United Nations    ST/IC/2007/43       Secret...</td>\n",
       "      <td>382</td>\n",
       "    </tr>\n",
       "  </tbody>\n",
       "</table>\n",
       "<p>671 rows × 3 columns</p>\n",
       "</div>"
      ],
      "text/plain": [
       "           category                                           fulltext  \\\n",
       "0    accountability    United Nations    A/60/846/Add.6       Gener...   \n",
       "1    accountability    United Nations    A/71/729      General Asse...   \n",
       "2    accountability    United Nations    A/72/492      General Asse...   \n",
       "3    accountability    United Nations    A/72/492/Add.2      Genera...   \n",
       "4    accountability    United Nations    A/73/688      General Asse...   \n",
       "..              ...                                                ...   \n",
       "666          travel  United Nations ST/IC/2001/27   Secretariat 10 ...   \n",
       "667          travel    United Nations    ST/IC/2001/27/Amend.1     ...   \n",
       "668          travel    United Nations    ST/IC/2001/27        Secre...   \n",
       "669          travel    United Nations    ST/AI/2000/19       Secret...   \n",
       "670          travel    United Nations    ST/IC/2007/43       Secret...   \n",
       "\n",
       "     wordcount  \n",
       "0         8881  \n",
       "1        10917  \n",
       "2        16716  \n",
       "3       126181  \n",
       "4        14427  \n",
       "..         ...  \n",
       "666       4542  \n",
       "667        305  \n",
       "668       5463  \n",
       "669       4049  \n",
       "670        382  \n",
       "\n",
       "[671 rows x 3 columns]"
      ]
     },
     "execution_count": 2067,
     "metadata": {},
     "output_type": "execute_result"
    }
   ],
   "source": [
    "Corpus"
   ]
  },
  {
   "cell_type": "code",
   "execution_count": 2068,
   "metadata": {},
   "outputs": [
    {
     "data": {
      "image/png": "[encoded data removed]",
      "text/plain": [
       "<Figure size 1000x600 with 1 Axes>"
      ]
     },
     "metadata": {},
     "output_type": "display_data"
    }
   ],
   "source": [
    "# show category distribution bar horizontal\n",
    "Corpus[\"category\"].value_counts(ascending=True).plot(kind='barh', figsize=(10, 6))\n",
    "plt.xlabel('Number of samples')\n",
    "plt.ylabel('Category')\n",
    "plt.title('Frequency of each category')\n",
    "plt.show()\n"
   ]
  },
  {
   "cell_type": "markdown",
   "metadata": {},
   "source": [
    "As we can see from the category distribution, we have an imbalance data set. We will have to address before training the model. We will use the F1 score for the metric instead of accuracy."
   ]
  },
  {
   "cell_type": "markdown",
   "metadata": {},
   "source": [
    "### Data Pre-processing\n",
    "\n",
    "1. Remove rows with blank values\n",
    "Remove rows where wordcount > 5000\n",
    "2. Change all to lower case\n",
    "3. Tokenization\n",
    "4. Remove stop words\n",
    "5. Remove non-alpha text\n",
    "6. Word Lemmatization\n"
   ]
  },
  {
   "cell_type": "code",
   "execution_count": 2069,
   "metadata": {},
   "outputs": [
    {
     "data": {
      "text/plain": [
       "category      0\n",
       "fulltext     58\n",
       "wordcount     0\n",
       "dtype: int64"
      ]
     },
     "execution_count": 2069,
     "metadata": {},
     "output_type": "execute_result"
    }
   ],
   "source": [
    "Corpus.isnull().sum()"
   ]
  },
  {
   "cell_type": "code",
   "execution_count": 2070,
   "metadata": {},
   "outputs": [],
   "source": [
    "Corpus.dropna(inplace=True)"
   ]
  },
  {
   "cell_type": "code",
   "execution_count": 2071,
   "metadata": {},
   "outputs": [
    {
     "data": {
      "text/plain": [
       "category     0\n",
       "fulltext     0\n",
       "wordcount    0\n",
       "dtype: int64"
      ]
     },
     "execution_count": 2071,
     "metadata": {},
     "output_type": "execute_result"
    }
   ],
   "source": [
    "Corpus.isnull().sum()"
   ]
  },
  {
   "cell_type": "code",
   "execution_count": 2072,
   "metadata": {},
   "outputs": [],
   "source": [
    "def stemmer(text):\n",
    "    stem = PorterStemmer()\n",
    "    return ' '.join([stem.stem(w) for w in word_tokenize(text)])"
   ]
  },
  {
   "cell_type": "code",
   "execution_count": 2073,
   "metadata": {},
   "outputs": [],
   "source": [
    "Corpus['fulltext'] = Corpus['fulltext'].apply(stemmer)"
   ]
  },
  {
   "cell_type": "code",
   "execution_count": 2074,
   "metadata": {},
   "outputs": [
    {
     "data": {
      "text/html": [
       "<div>\n",
       "<style scoped>\n",
       "    .dataframe tbody tr th:only-of-type {\n",
       "        vertical-align: middle;\n",
       "    }\n",
       "\n",
       "    .dataframe tbody tr th {\n",
       "        vertical-align: top;\n",
       "    }\n",
       "\n",
       "    .dataframe thead th {\n",
       "        text-align: right;\n",
       "    }\n",
       "</style>\n",
       "<table border=\"1\" class=\"dataframe\">\n",
       "  <thead>\n",
       "    <tr style=\"text-align: right;\">\n",
       "      <th></th>\n",
       "      <th>category</th>\n",
       "      <th>fulltext</th>\n",
       "      <th>wordcount</th>\n",
       "    </tr>\n",
       "  </thead>\n",
       "  <tbody>\n",
       "    <tr>\n",
       "      <th>0</th>\n",
       "      <td>accountability</td>\n",
       "      <td>unit nation a/60/846/add.6 gener assembl distr...</td>\n",
       "      <td>8881</td>\n",
       "    </tr>\n",
       "    <tr>\n",
       "      <th>1</th>\n",
       "      <td>accountability</td>\n",
       "      <td>unit nation a/71/729 gener assembl distr . : g...</td>\n",
       "      <td>10917</td>\n",
       "    </tr>\n",
       "    <tr>\n",
       "      <th>2</th>\n",
       "      <td>accountability</td>\n",
       "      <td>unit nation a/72/492 gener assembl distr . : g...</td>\n",
       "      <td>16716</td>\n",
       "    </tr>\n",
       "    <tr>\n",
       "      <th>3</th>\n",
       "      <td>accountability</td>\n",
       "      <td>unit nation a/72/492/add.2 gener assembl distr...</td>\n",
       "      <td>126181</td>\n",
       "    </tr>\n",
       "    <tr>\n",
       "      <th>4</th>\n",
       "      <td>accountability</td>\n",
       "      <td>unit nation a/73/688 gener assembl distr . : g...</td>\n",
       "      <td>14427</td>\n",
       "    </tr>\n",
       "  </tbody>\n",
       "</table>\n",
       "</div>"
      ],
      "text/plain": [
       "         category                                           fulltext  \\\n",
       "0  accountability  unit nation a/60/846/add.6 gener assembl distr...   \n",
       "1  accountability  unit nation a/71/729 gener assembl distr . : g...   \n",
       "2  accountability  unit nation a/72/492 gener assembl distr . : g...   \n",
       "3  accountability  unit nation a/72/492/add.2 gener assembl distr...   \n",
       "4  accountability  unit nation a/73/688 gener assembl distr . : g...   \n",
       "\n",
       "   wordcount  \n",
       "0       8881  \n",
       "1      10917  \n",
       "2      16716  \n",
       "3     126181  \n",
       "4      14427  "
      ]
     },
     "execution_count": 2074,
     "metadata": {},
     "output_type": "execute_result"
    }
   ],
   "source": [
    "# To speed up execution while testing, we can reduce the number of samples\n",
    "#Corpus = Corpus.sample(frac=0.6)\n",
    "\n",
    "# Remove rows where wordcount is greater than 50000\n",
    "#Corpus = Corpus[Corpus['wordcount'] < 5000]\n",
    "# Step 2: Change all the text to lower case\n",
    "#Corpus['fulltext'] = [entry.lower() for entry in Corpus['fulltext']]\n",
    "# Step 3: Tokenization : In this each entry in the corpus will be broken into set of words\n",
    "#Corpus['fulltext'] = [word_tokenize(entry) for entry in Corpus['fulltext']]\n",
    "# Step 4: Remove stop words, non-alphabet and perfom word lemmatization\n",
    "#tag_map = defaultdict(lambda : wn.NOUN)\n",
    "#tag_map['J'] = wn.ADJ\n",
    "#tag_map['V'] = wn.VERB\n",
    "#tag_map['R'] = wn.ADV\n",
    "#for index,entry in enumerate(Corpus['fulltext']):\n",
    "#    Final_words = []\n",
    "#    #word_Lemmatized = WordNetLemmatizer()\n",
    "#    #if index == 179: print(index, entry)\n",
    "#    for word in entry:\n",
    "#        #print(word, tag)\n",
    "#        # remove stopwords, non-alphabet and words with length less than 3 e.g. abbreviations, roman numerals\n",
    "#        if word not in stopwords.words('english') and word.isalpha():\n",
    "#            # we will only add nouns in the final text\n",
    "#            #word_Final = word_Lemmatized.lemmatize(word,tag_map[tag[0]])\n",
    "#            #if index == 179: print(word)\n",
    "#            Final_words.append(word)\n",
    "#    print(Corpus.iloc[index].category)\n",
    "#    #Corpus.loc[index,'text_final'] = \" \".join(Final_words)\n",
    "    \n",
    "Corpus.head()"
   ]
  },
  {
   "cell_type": "code",
   "execution_count": 2075,
   "metadata": {},
   "outputs": [
    {
     "data": {
      "text/plain": [
       "category     0\n",
       "fulltext     0\n",
       "wordcount    0\n",
       "dtype: int64"
      ]
     },
     "execution_count": 2075,
     "metadata": {},
     "output_type": "execute_result"
    }
   ],
   "source": [
    "# Check number of rows for missing values\n",
    "Corpus.isnull().sum()"
   ]
  },
  {
   "cell_type": "code",
   "execution_count": 2076,
   "metadata": {},
   "outputs": [
    {
     "data": {
      "text/html": [
       "<div>\n",
       "<style scoped>\n",
       "    .dataframe tbody tr th:only-of-type {\n",
       "        vertical-align: middle;\n",
       "    }\n",
       "\n",
       "    .dataframe tbody tr th {\n",
       "        vertical-align: top;\n",
       "    }\n",
       "\n",
       "    .dataframe thead th {\n",
       "        text-align: right;\n",
       "    }\n",
       "</style>\n",
       "<table border=\"1\" class=\"dataframe\">\n",
       "  <thead>\n",
       "    <tr style=\"text-align: right;\">\n",
       "      <th></th>\n",
       "      <th>category</th>\n",
       "      <th>fulltext</th>\n",
       "      <th>wordcount</th>\n",
       "    </tr>\n",
       "  </thead>\n",
       "  <tbody>\n",
       "  </tbody>\n",
       "</table>\n",
       "</div>"
      ],
      "text/plain": [
       "Empty DataFrame\n",
       "Columns: [category, fulltext, wordcount]\n",
       "Index: []"
      ]
     },
     "execution_count": 2076,
     "metadata": {},
     "output_type": "execute_result"
    }
   ],
   "source": [
    "# show record in Corpus with nan values\n",
    "Corpus[Corpus.isnull().any(axis=1)]"
   ]
  },
  {
   "cell_type": "code",
   "execution_count": 2077,
   "metadata": {},
   "outputs": [],
   "source": [
    "# Remove rows with empty fields\n",
    "Corpus = Corpus.dropna()"
   ]
  },
  {
   "cell_type": "code",
   "execution_count": 2078,
   "metadata": {},
   "outputs": [
    {
     "data": {
      "text/plain": [
       "category     0\n",
       "fulltext     0\n",
       "wordcount    0\n",
       "dtype: int64"
      ]
     },
     "execution_count": 2078,
     "metadata": {},
     "output_type": "execute_result"
    }
   ],
   "source": [
    "# Re-check number of rows for missing values\n",
    "Corpus.isnull().sum()"
   ]
  },
  {
   "cell_type": "code",
   "execution_count": 2079,
   "metadata": {},
   "outputs": [
    {
     "data": {
      "text/plain": [
       "category\n",
       "human resources               417\n",
       "travel                         77\n",
       "accountability                 40\n",
       "security                       35\n",
       "information and technology     14\n",
       "finance and budget             11\n",
       "health and wellbeing           11\n",
       "property management             8\n",
       "Name: count, dtype: int64"
      ]
     },
     "execution_count": 2079,
     "metadata": {},
     "output_type": "execute_result"
    }
   ],
   "source": [
    "Corpus[\"category\"].value_counts()"
   ]
  },
  {
   "cell_type": "markdown",
   "metadata": {},
   "source": [
    "### Prepare Train and Test Data"
   ]
  },
  {
   "cell_type": "code",
   "execution_count": 2080,
   "metadata": {},
   "outputs": [],
   "source": [
    "# Prepare test data\n",
    "X_train, X_test, y_train, y_test = train_test_split(Corpus['fulltext'], Corpus['category'], test_size=0.3, stratify=Corpus['category'].values)"
   ]
  },
  {
   "cell_type": "code",
   "execution_count": 2081,
   "metadata": {},
   "outputs": [
    {
     "data": {
      "text/plain": [
       "category\n",
       "human resources               292\n",
       "travel                         54\n",
       "accountability                 28\n",
       "security                       24\n",
       "information and technology     10\n",
       "health and wellbeing            8\n",
       "finance and budget              8\n",
       "property management             5\n",
       "Name: count, dtype: int64"
      ]
     },
     "execution_count": 2081,
     "metadata": {},
     "output_type": "execute_result"
    }
   ],
   "source": [
    "# show value counts for training set\n",
    "y_train.value_counts()"
   ]
  },
  {
   "cell_type": "code",
   "execution_count": 2082,
   "metadata": {},
   "outputs": [
    {
     "data": {
      "text/plain": [
       "category\n",
       "human resources               125\n",
       "travel                         23\n",
       "accountability                 12\n",
       "security                       11\n",
       "information and technology      4\n",
       "health and wellbeing            3\n",
       "finance and budget              3\n",
       "property management             3\n",
       "Name: count, dtype: int64"
      ]
     },
     "execution_count": 2082,
     "metadata": {},
     "output_type": "execute_result"
    }
   ],
   "source": [
    "# show value counts for test set\n",
    "y_test.value_counts()"
   ]
  },
  {
   "cell_type": "code",
   "execution_count": 2083,
   "metadata": {},
   "outputs": [
    {
     "name": "stdout",
     "output_type": "stream",
     "text": [
      "Original dataset shape Counter({'human resources': 292, 'travel': 54, 'accountability': 28, 'security': 24, 'information and technology': 10, 'health and wellbeing': 8, 'finance and budget': 8, 'property management': 5})\n"
     ]
    }
   ],
   "source": [
    "print('Original dataset shape %s' % Counter(y_train))"
   ]
  },
  {
   "cell_type": "markdown",
   "metadata": {},
   "source": [
    "### Encode category"
   ]
  },
  {
   "cell_type": "code",
   "execution_count": 2084,
   "metadata": {},
   "outputs": [],
   "source": [
    "Encoder = LabelEncoder()\n",
    "y_train = Encoder.fit_transform(y_train)\n",
    "y_test = Encoder.fit_transform(y_test)"
   ]
  },
  {
   "cell_type": "code",
   "execution_count": 2085,
   "metadata": {},
   "outputs": [],
   "source": [
    "# Define labels and target names\n",
    "labels = [0, 1, 2, 3, 4, 5, 6, 7]\n",
    "target_names = ['accountability', 'finance and budget', 'health and wellbeing', 'human resources', 'information and technology', 'property management', 'security', 'travel']"
   ]
  },
  {
   "cell_type": "code",
   "execution_count": 2086,
   "metadata": {},
   "outputs": [],
   "source": [
    "# Define Pipelines using CountVectorizer\n",
    "\n",
    "# Baseline\n",
    "cvect_base_pipeline = Pipeline([('vect', CountVectorizer(stop_words='english', token_pattern=r'\\b[^\\d\\W]+\\b')),\n",
    "                                ('resample', SMOTETomek(sampling_strategy='auto',smote=SMOTE(k_neighbors=2),tomek=TomekLinks())),\n",
    "                                ('dclass', DummyClassifier(strategy='stratified'))])\n",
    "\n",
    "# Logistic Regression\n",
    "cvect_log_pipeline = Pipeline([('vect', CountVectorizer(stop_words='english', token_pattern=r'\\b[^\\d\\W]+\\b')),\n",
    "                               ('resample', SMOTETomek(sampling_strategy='auto',smote=SMOTE(k_neighbors=2),tomek=TomekLinks())),\n",
    "                               ('log', LogisticRegression(max_iter=10000))])\n",
    "\n",
    "# Naive Bayes\n",
    "cvect_nb_pipeline = Pipeline([('vect', CountVectorizer(stop_words='english', token_pattern=r'\\b[^\\d\\W]+\\b')),\n",
    "                              ('resample', SMOTETomek(sampling_strategy='auto',smote=SMOTE(k_neighbors=2),tomek=TomekLinks())),\n",
    "                              ('nb', MultinomialNB())])\n",
    "\n",
    "# SVM\n",
    "cvect_svm_pipeline = Pipeline([('vect', CountVectorizer(stop_words='english', token_pattern=r'\\b[^\\d\\W]+\\b')),\n",
    "                               ('resample', SMOTETomek(sampling_strategy='auto',smote=SMOTE(k_neighbors=2),tomek=TomekLinks())),\n",
    "                               ('svm', SVC())])"
   ]
  },
  {
   "cell_type": "code",
   "execution_count": 2087,
   "metadata": {},
   "outputs": [],
   "source": [
    "# Define Pipelines using TfidfVectorizer\n",
    "\n",
    "# Baseline\n",
    "tvect_base_pipeline = Pipeline([('vect', TfidfVectorizer(stop_words='english', token_pattern=r'\\b[^\\d\\W]+\\b')),\n",
    "                                ('resample', SMOTETomek(sampling_strategy='auto',smote=SMOTE(k_neighbors=2),tomek=TomekLinks())),\n",
    "                                ('dclass', DummyClassifier(strategy='stratified'))])\n",
    "\n",
    "# Logistic Regression\n",
    "tvect_log_pipeline = Pipeline([('vect', TfidfVectorizer(stop_words='english', token_pattern=r'\\b[^\\d\\W]+\\b')),\n",
    "                               ('resample', SMOTETomek(sampling_strategy='auto',smote=SMOTE(k_neighbors=2),tomek=TomekLinks())),\n",
    "                                ('log', LogisticRegression(max_iter=10000))])\n",
    "\n",
    "# Naive Bayes\n",
    "tvect_nb_pipeline = Pipeline([('vect', TfidfVectorizer(stop_words='english', token_pattern=r'\\b[^\\d\\W]+\\b')),\n",
    "                              ('resample', SMOTETomek(sampling_strategy='auto',smote=SMOTE(k_neighbors=2),tomek=TomekLinks())),\n",
    "                              ('nb', MultinomialNB())])\n",
    "\n",
    "# SVM\n",
    "cvect_svm_pipeline = Pipeline([('vect', CountVectorizer(stop_words='english', token_pattern=r'\\b[^\\d\\W]+\\b')),\n",
    "                               ('resample', SMOTETomek(sampling_strategy='auto',smote=SMOTE(k_neighbors=2),tomek=TomekLinks())),\n",
    "                               ('svm', SVC())])"
   ]
  },
  {
   "cell_type": "code",
   "execution_count": 2088,
   "metadata": {},
   "outputs": [],
   "source": [
    "# Define parameters for GridSearchCV\n",
    "\n",
    "# CountVectorizer - Logistic Regression\n",
    "log_param = {'vect__max_features': [100, 500, 1000, 2000],\n",
    "             'log__C': [0.1, 1, 10, 100]}\n",
    "\n",
    "# CountVectorizer - Naive Bayes\n",
    "nb_param = {'vect__max_features': [100, 500, 1000, 2000],\n",
    "             'nb__alpha': [0.1, 1, 10, 100]}\n",
    "\n",
    "# CountVectorizer - SVM\n",
    "svm_param = {'vect__max_features': [100, 500, 1000, 2000],\n",
    "             'svm__C': [0.1, 1, 10, 100]}"
   ]
  },
  {
   "cell_type": "code",
   "execution_count": 2089,
   "metadata": {},
   "outputs": [],
   "source": [
    "# Function to train and evaluate models\n",
    "def train_eval_model(pipeline, X_train, y_train, X_test, y_test, target_names, labels):\n",
    "    pipeline.fit(X_train, y_train)\n",
    "    y_pred = pipeline.predict(X_test)\n",
    "    print(pipeline.named_steps)\n",
    "    print(classification_report(y_test, y_pred, target_names=target_names, labels=labels))\n",
    "    "
   ]
  },
  {
   "cell_type": "code",
   "execution_count": 2090,
   "metadata": {},
   "outputs": [],
   "source": [
    "# Function to train and tune models\n",
    "def train_tune_model(pipeline, X_train, y_train, X_test, y_test, target_names, labels, param_grid):\n",
    "    grid = GridSearchCV(pipeline, param_grid)\n",
    "    grid.fit(X_train, y_train)\n",
    "    y_pred = grid.predict(X_test)\n",
    "    print(pipeline.named_steps)\n",
    "    print(grid.best_params_)\n",
    "    print(classification_report(y_test, y_pred, target_names=target_names, labels=labels))"
   ]
  },
  {
   "cell_type": "markdown",
   "metadata": {},
   "source": [
    "### Evaluate models using CountVectorizer for feature extraction"
   ]
  },
  {
   "cell_type": "markdown",
   "metadata": {},
   "source": [
    "#### Default parameters"
   ]
  },
  {
   "cell_type": "code",
   "execution_count": 2091,
   "metadata": {},
   "outputs": [
    {
     "name": "stdout",
     "output_type": "stream",
     "text": [
      "{'vect': CountVectorizer(stop_words='english', token_pattern='\\\\b[^\\\\d\\\\W]+\\\\b'), 'resample': SMOTETomek(smote=SMOTE(k_neighbors=2), tomek=TomekLinks()), 'dclass': DummyClassifier(strategy='stratified')}\n",
      "                            precision    recall  f1-score   support\n",
      "\n",
      "            accountability       0.06      0.17      0.09        12\n",
      "        finance and budget       0.00      0.00      0.00         3\n",
      "      health and wellbeing       0.00      0.00      0.00         3\n",
      "           human resources       0.56      0.07      0.13       125\n",
      "information and technology       0.00      0.00      0.00         4\n",
      "       property management       0.00      0.00      0.00         3\n",
      "                  security       0.05      0.09      0.06        11\n",
      "                    travel       0.21      0.13      0.16        23\n",
      "\n",
      "                  accuracy                           0.08       184\n",
      "                 macro avg       0.11      0.06      0.05       184\n",
      "              weighted avg       0.42      0.08      0.12       184\n",
      "\n"
     ]
    }
   ],
   "source": [
    "# Baseline\n",
    "train_eval_model(cvect_base_pipeline, X_train, y_train, X_test, y_test, target_names, labels)"
   ]
  },
  {
   "cell_type": "code",
   "execution_count": 2092,
   "metadata": {},
   "outputs": [
    {
     "name": "stdout",
     "output_type": "stream",
     "text": [
      "{'vect': CountVectorizer(stop_words='english', token_pattern='\\\\b[^\\\\d\\\\W]+\\\\b'), 'resample': SMOTETomek(smote=SMOTE(k_neighbors=2), tomek=TomekLinks()), 'log': LogisticRegression(max_iter=10000)}\n",
      "                            precision    recall  f1-score   support\n",
      "\n",
      "            accountability       0.40      0.33      0.36        12\n",
      "        finance and budget       0.14      0.33      0.20         3\n",
      "      health and wellbeing       1.00      0.33      0.50         3\n",
      "           human resources       0.72      0.78      0.75       125\n",
      "information and technology       0.00      0.00      0.00         4\n",
      "       property management       0.00      0.00      0.00         3\n",
      "                  security       0.83      0.91      0.87        11\n",
      "                    travel       0.00      0.00      0.00        23\n",
      "\n",
      "                  accuracy                           0.61       184\n",
      "                 macro avg       0.39      0.34      0.34       184\n",
      "              weighted avg       0.59      0.61      0.60       184\n",
      "\n"
     ]
    }
   ],
   "source": [
    "# Logistic Regression\n",
    "train_eval_model(cvect_log_pipeline, X_train, y_train, X_test, y_test, target_names, labels)"
   ]
  },
  {
   "cell_type": "code",
   "execution_count": 2093,
   "metadata": {},
   "outputs": [
    {
     "name": "stdout",
     "output_type": "stream",
     "text": [
      "{'vect': CountVectorizer(stop_words='english', token_pattern='\\\\b[^\\\\d\\\\W]+\\\\b'), 'resample': SMOTETomek(smote=SMOTE(k_neighbors=2), tomek=TomekLinks()), 'nb': MultinomialNB()}\n",
      "                            precision    recall  f1-score   support\n",
      "\n",
      "            accountability       0.38      0.83      0.53        12\n",
      "        finance and budget       0.00      0.00      0.00         3\n",
      "      health and wellbeing       1.00      0.33      0.50         3\n",
      "           human resources       0.86      0.65      0.74       125\n",
      "information and technology       0.40      0.50      0.44         4\n",
      "       property management       0.00      0.00      0.00         3\n",
      "                  security       0.85      1.00      0.92        11\n",
      "                    travel       0.41      0.65      0.50        23\n",
      "\n",
      "                  accuracy                           0.65       184\n",
      "                 macro avg       0.49      0.50      0.45       184\n",
      "              weighted avg       0.74      0.65      0.67       184\n",
      "\n"
     ]
    }
   ],
   "source": [
    "# Naive Bayes\n",
    "train_eval_model(cvect_nb_pipeline, X_train, y_train, X_test, y_test, target_names, labels)"
   ]
  },
  {
   "cell_type": "code",
   "execution_count": 2094,
   "metadata": {},
   "outputs": [
    {
     "name": "stdout",
     "output_type": "stream",
     "text": [
      "{'vect': CountVectorizer(stop_words='english', token_pattern='\\\\b[^\\\\d\\\\W]+\\\\b'), 'resample': SMOTETomek(smote=SMOTE(k_neighbors=2), tomek=TomekLinks()), 'svm': SVC()}\n",
      "                            precision    recall  f1-score   support\n",
      "\n",
      "            accountability       0.62      0.67      0.64        12\n",
      "        finance and budget       0.00      0.00      0.00         3\n",
      "      health and wellbeing       0.67      0.67      0.67         3\n",
      "           human resources       0.90      0.52      0.66       125\n",
      "information and technology       0.60      0.75      0.67         4\n",
      "       property management       0.00      0.00      0.00         3\n",
      "                  security       0.85      1.00      0.92        11\n",
      "                    travel       0.29      0.87      0.43        23\n",
      "\n",
      "                  accuracy                           0.59       184\n",
      "                 macro avg       0.49      0.56      0.50       184\n",
      "              weighted avg       0.76      0.59      0.62       184\n",
      "\n"
     ]
    }
   ],
   "source": [
    "# SVM\n",
    "train_eval_model(cvect_svm_pipeline, X_train, y_train, X_test, y_test, target_names, labels)\n"
   ]
  },
  {
   "cell_type": "markdown",
   "metadata": {},
   "source": [
    "#### Tune hyperparameters"
   ]
  },
  {
   "cell_type": "code",
   "execution_count": 2095,
   "metadata": {},
   "outputs": [
    {
     "name": "stdout",
     "output_type": "stream",
     "text": [
      "{'vect': CountVectorizer(stop_words='english', token_pattern='\\\\b[^\\\\d\\\\W]+\\\\b'), 'resample': SMOTETomek(smote=SMOTE(k_neighbors=2), tomek=TomekLinks()), 'log': LogisticRegression(max_iter=10000)}\n",
      "{'log__C': 100, 'vect__max_features': 2000}\n",
      "                            precision    recall  f1-score   support\n",
      "\n",
      "            accountability       0.45      0.42      0.43        12\n",
      "        finance and budget       0.00      0.00      0.00         3\n",
      "      health and wellbeing       1.00      0.33      0.50         3\n",
      "           human resources       0.73      0.78      0.76       125\n",
      "information and technology       0.00      0.00      0.00         4\n",
      "       property management       0.00      0.00      0.00         3\n",
      "                  security       0.85      1.00      0.92        11\n",
      "                    travel       0.06      0.04      0.05        23\n",
      "\n",
      "                  accuracy                           0.63       184\n",
      "                 macro avg       0.39      0.32      0.33       184\n",
      "              weighted avg       0.60      0.63      0.61       184\n",
      "\n"
     ]
    }
   ],
   "source": [
    "# Logistic Regression\n",
    "train_tune_model(cvect_log_pipeline, X_train, y_train, X_test, y_test, target_names, labels, log_param)"
   ]
  },
  {
   "cell_type": "code",
   "execution_count": 2096,
   "metadata": {},
   "outputs": [
    {
     "name": "stdout",
     "output_type": "stream",
     "text": [
      "{'vect': CountVectorizer(stop_words='english', token_pattern='\\\\b[^\\\\d\\\\W]+\\\\b'), 'resample': SMOTETomek(smote=SMOTE(k_neighbors=2), tomek=TomekLinks()), 'nb': MultinomialNB()}\n",
      "{'nb__alpha': 0.1, 'vect__max_features': 2000}\n",
      "                            precision    recall  f1-score   support\n",
      "\n",
      "            accountability       0.36      0.75      0.49        12\n",
      "        finance and budget       0.00      0.00      0.00         3\n",
      "      health and wellbeing       0.00      0.00      0.00         3\n",
      "           human resources       0.83      0.64      0.72       125\n",
      "information and technology       0.40      0.50      0.44         4\n",
      "       property management       0.00      0.00      0.00         3\n",
      "                  security       0.85      1.00      0.92        11\n",
      "                    travel       0.39      0.65      0.49        23\n",
      "\n",
      "                  accuracy                           0.64       184\n",
      "                 macro avg       0.35      0.44      0.38       184\n",
      "              weighted avg       0.70      0.64      0.65       184\n",
      "\n"
     ]
    }
   ],
   "source": [
    "# Naive Bayes\n",
    "train_tune_model(cvect_nb_pipeline, X_train, y_train, X_test, y_test, target_names, labels, nb_param)"
   ]
  },
  {
   "cell_type": "code",
   "execution_count": 2097,
   "metadata": {},
   "outputs": [
    {
     "name": "stdout",
     "output_type": "stream",
     "text": [
      "{'vect': CountVectorizer(stop_words='english', token_pattern='\\\\b[^\\\\d\\\\W]+\\\\b'), 'resample': SMOTETomek(smote=SMOTE(k_neighbors=2), tomek=TomekLinks()), 'svm': SVC()}\n",
      "{'svm__C': 100, 'vect__max_features': 500}\n",
      "                            precision    recall  f1-score   support\n",
      "\n",
      "            accountability       0.56      0.42      0.48        12\n",
      "        finance and budget       0.00      0.00      0.00         3\n",
      "      health and wellbeing       1.00      0.33      0.50         3\n",
      "           human resources       0.78      0.75      0.77       125\n",
      "information and technology       0.00      0.00      0.00         4\n",
      "       property management       0.00      0.00      0.00         3\n",
      "                  security       0.85      1.00      0.92        11\n",
      "                    travel       0.31      0.43      0.36        23\n",
      "\n",
      "                  accuracy                           0.66       184\n",
      "                 macro avg       0.44      0.37      0.38       184\n",
      "              weighted avg       0.67      0.66      0.66       184\n",
      "\n"
     ]
    }
   ],
   "source": [
    "# SVM\n",
    "train_tune_model(cvect_svm_pipeline, X_train, y_train, X_test, y_test, target_names, labels, svm_param)"
   ]
  },
  {
   "cell_type": "markdown",
   "metadata": {},
   "source": [
    "### Evaluate models using TfidfVectorizer feature extraction"
   ]
  },
  {
   "cell_type": "markdown",
   "metadata": {},
   "source": [
    "#### Default parameters"
   ]
  },
  {
   "cell_type": "code",
   "execution_count": 2098,
   "metadata": {},
   "outputs": [
    {
     "name": "stdout",
     "output_type": "stream",
     "text": [
      "{'vect': TfidfVectorizer(stop_words='english', token_pattern='\\\\b[^\\\\d\\\\W]+\\\\b'), 'resample': SMOTETomek(smote=SMOTE(k_neighbors=2), tomek=TomekLinks()), 'dclass': DummyClassifier(strategy='stratified')}\n",
      "                            precision    recall  f1-score   support\n",
      "\n",
      "            accountability       0.05      0.08      0.06        12\n",
      "        finance and budget       0.00      0.00      0.00         3\n",
      "      health and wellbeing       0.00      0.00      0.00         3\n",
      "           human resources       0.74      0.11      0.19       125\n",
      "information and technology       0.09      0.50      0.15         4\n",
      "       property management       0.00      0.00      0.00         3\n",
      "                  security       0.14      0.36      0.21        11\n",
      "                    travel       0.09      0.13      0.11        23\n",
      "\n",
      "                  accuracy                           0.13       184\n",
      "                 macro avg       0.14      0.15      0.09       184\n",
      "              weighted avg       0.53      0.13      0.17       184\n",
      "\n"
     ]
    }
   ],
   "source": [
    "# Baseline\n",
    "train_eval_model(tvect_base_pipeline, X_train, y_train, X_test, y_test, target_names, labels)"
   ]
  },
  {
   "cell_type": "code",
   "execution_count": 2099,
   "metadata": {},
   "outputs": [
    {
     "name": "stdout",
     "output_type": "stream",
     "text": [
      "{'vect': TfidfVectorizer(stop_words='english', token_pattern='\\\\b[^\\\\d\\\\W]+\\\\b'), 'resample': SMOTETomek(smote=SMOTE(k_neighbors=2), tomek=TomekLinks()), 'log': LogisticRegression(max_iter=10000)}\n",
      "                            precision    recall  f1-score   support\n",
      "\n",
      "            accountability       0.57      0.67      0.62        12\n",
      "        finance and budget       0.00      0.00      0.00         3\n",
      "      health and wellbeing       1.00      0.33      0.50         3\n",
      "           human resources       0.83      0.74      0.78       125\n",
      "information and technology       0.50      0.50      0.50         4\n",
      "       property management       0.00      0.00      0.00         3\n",
      "                  security       0.92      1.00      0.96        11\n",
      "                    travel       0.35      0.52      0.42        23\n",
      "\n",
      "                  accuracy                           0.68       184\n",
      "                 macro avg       0.52      0.47      0.47       184\n",
      "              weighted avg       0.73      0.68      0.70       184\n",
      "\n"
     ]
    }
   ],
   "source": [
    "# Logistic Regression\n",
    "train_eval_model(tvect_log_pipeline, X_train, y_train, X_test, y_test, target_names, labels)"
   ]
  },
  {
   "cell_type": "code",
   "execution_count": 2100,
   "metadata": {},
   "outputs": [
    {
     "name": "stdout",
     "output_type": "stream",
     "text": [
      "{'vect': TfidfVectorizer(stop_words='english', token_pattern='\\\\b[^\\\\d\\\\W]+\\\\b'), 'resample': SMOTETomek(smote=SMOTE(k_neighbors=2), tomek=TomekLinks()), 'nb': MultinomialNB()}\n",
      "                            precision    recall  f1-score   support\n",
      "\n",
      "            accountability       0.18      0.92      0.31        12\n",
      "        finance and budget       0.00      0.00      0.00         3\n",
      "      health and wellbeing       1.00      0.33      0.50         3\n",
      "           human resources       0.93      0.30      0.46       125\n",
      "information and technology       0.50      1.00      0.67         4\n",
      "       property management       0.00      0.00      0.00         3\n",
      "                  security       0.79      1.00      0.88        11\n",
      "                    travel       0.39      0.87      0.54        23\n",
      "\n",
      "                  accuracy                           0.46       184\n",
      "                 macro avg       0.47      0.55      0.42       184\n",
      "              weighted avg       0.76      0.46      0.47       184\n",
      "\n"
     ]
    }
   ],
   "source": [
    "# Naive Bayes\n",
    "train_eval_model(tvect_nb_pipeline, X_train, y_train, X_test, y_test, target_names, labels)"
   ]
  },
  {
   "cell_type": "code",
   "execution_count": 2101,
   "metadata": {},
   "outputs": [
    {
     "name": "stdout",
     "output_type": "stream",
     "text": [
      "{'vect': CountVectorizer(stop_words='english', token_pattern='\\\\b[^\\\\d\\\\W]+\\\\b'), 'resample': SMOTETomek(smote=SMOTE(k_neighbors=2), tomek=TomekLinks()), 'svm': SVC()}\n",
      "                            precision    recall  f1-score   support\n",
      "\n",
      "            accountability       0.62      0.67      0.64        12\n",
      "        finance and budget       0.00      0.00      0.00         3\n",
      "      health and wellbeing       0.67      0.67      0.67         3\n",
      "           human resources       0.87      0.54      0.67       125\n",
      "information and technology       0.60      0.75      0.67         4\n",
      "       property management       0.00      0.00      0.00         3\n",
      "                  security       0.85      1.00      0.92        11\n",
      "                    travel       0.30      0.83      0.44        23\n",
      "\n",
      "                  accuracy                           0.60       184\n",
      "                 macro avg       0.49      0.56      0.50       184\n",
      "              weighted avg       0.74      0.60      0.63       184\n",
      "\n"
     ]
    }
   ],
   "source": [
    "# SVM\n",
    "train_eval_model(cvect_svm_pipeline, X_train, y_train, X_test, y_test, target_names, labels)"
   ]
  },
  {
   "cell_type": "markdown",
   "metadata": {},
   "source": [
    "#### Tune hyperparameters"
   ]
  },
  {
   "cell_type": "code",
   "execution_count": 2102,
   "metadata": {},
   "outputs": [
    {
     "name": "stdout",
     "output_type": "stream",
     "text": [
      "{'vect': TfidfVectorizer(stop_words='english', token_pattern='\\\\b[^\\\\d\\\\W]+\\\\b'), 'resample': SMOTETomek(smote=SMOTE(k_neighbors=2), tomek=TomekLinks()), 'log': LogisticRegression(max_iter=10000)}\n",
      "{'log__C': 0.1, 'vect__max_features': 2000}\n",
      "                            precision    recall  f1-score   support\n",
      "\n",
      "            accountability       0.47      0.75      0.58        12\n",
      "        finance and budget       0.00      0.00      0.00         3\n",
      "      health and wellbeing       0.50      0.33      0.40         3\n",
      "           human resources       0.85      0.69      0.76       125\n",
      "information and technology       0.50      0.75      0.60         4\n",
      "       property management       0.00      0.00      0.00         3\n",
      "                  security       0.92      1.00      0.96        11\n",
      "                    travel       0.39      0.61      0.47        23\n",
      "\n",
      "                  accuracy                           0.67       184\n",
      "                 macro avg       0.45      0.52      0.47       184\n",
      "              weighted avg       0.73      0.67      0.69       184\n",
      "\n"
     ]
    }
   ],
   "source": [
    "# Logistic Regression\n",
    "train_tune_model(tvect_log_pipeline, X_train, y_train, X_test, y_test, target_names, labels, log_param)"
   ]
  },
  {
   "cell_type": "code",
   "execution_count": 2103,
   "metadata": {},
   "outputs": [
    {
     "name": "stdout",
     "output_type": "stream",
     "text": [
      "{'vect': TfidfVectorizer(stop_words='english', token_pattern='\\\\b[^\\\\d\\\\W]+\\\\b'), 'resample': SMOTETomek(smote=SMOTE(k_neighbors=2), tomek=TomekLinks()), 'nb': MultinomialNB()}\n",
      "{'nb__alpha': 0.1, 'vect__max_features': 500}\n",
      "                            precision    recall  f1-score   support\n",
      "\n",
      "            accountability       0.37      0.83      0.51        12\n",
      "        finance and budget       0.00      0.00      0.00         3\n",
      "      health and wellbeing       1.00      0.33      0.50         3\n",
      "           human resources       0.88      0.62      0.72       125\n",
      "information and technology       0.33      0.50      0.40         4\n",
      "       property management       0.00      0.00      0.00         3\n",
      "                  security       0.92      1.00      0.96        11\n",
      "                    travel       0.43      0.78      0.55        23\n",
      "\n",
      "                  accuracy                           0.65       184\n",
      "                 macro avg       0.49      0.51      0.46       184\n",
      "              weighted avg       0.75      0.65      0.67       184\n",
      "\n"
     ]
    }
   ],
   "source": [
    "# Naive Bayes\n",
    "train_tune_model(tvect_nb_pipeline, X_train, y_train, X_test, y_test, target_names, labels, nb_param)"
   ]
  },
  {
   "cell_type": "code",
   "execution_count": 2104,
   "metadata": {},
   "outputs": [
    {
     "name": "stdout",
     "output_type": "stream",
     "text": [
      "{'vect': CountVectorizer(stop_words='english', token_pattern='\\\\b[^\\\\d\\\\W]+\\\\b'), 'resample': SMOTETomek(smote=SMOTE(k_neighbors=2), tomek=TomekLinks()), 'svm': SVC()}\n",
      "{'svm__C': 100, 'vect__max_features': 1000}\n",
      "                            precision    recall  f1-score   support\n",
      "\n",
      "            accountability       0.57      0.33      0.42        12\n",
      "        finance and budget       0.00      0.00      0.00         3\n",
      "      health and wellbeing       1.00      0.33      0.50         3\n",
      "           human resources       0.80      0.78      0.79       125\n",
      "information and technology       0.33      0.25      0.29         4\n",
      "       property management       0.00      0.00      0.00         3\n",
      "                  security       0.85      1.00      0.92        11\n",
      "                    travel       0.38      0.48      0.42        23\n",
      "\n",
      "                  accuracy                           0.68       184\n",
      "                 macro avg       0.49      0.40      0.42       184\n",
      "              weighted avg       0.70      0.68      0.69       184\n",
      "\n"
     ]
    }
   ],
   "source": [
    "# SVM\n",
    "train_tune_model(cvect_svm_pipeline, X_train, y_train, X_test, y_test, target_names, labels, svm_param)"
   ]
  }
 ],
 "metadata": {
  "kernelspec": {
   "display_name": "ai-ml",
   "language": "python",
   "name": "python3"
  },
  "language_info": {
   "codemirror_mode": {
    "name": "ipython",
    "version": 3
   },
   "file_extension": ".py",
   "mimetype": "text/x-python",
   "name": "python",
   "nbconvert_exporter": "python",
   "pygments_lexer": "ipython3",
   "version": "3.12.4"
  }
 },
 "nbformat": 4,
 "nbformat_minor": 2
}
